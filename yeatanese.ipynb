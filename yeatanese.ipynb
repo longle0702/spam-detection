{
 "cells": [
  {
   "cell_type": "code",
   "execution_count": 120,
   "metadata": {},
   "outputs": [
    {
     "name": "stderr",
     "output_type": "stream",
     "text": [
      "[nltk_data] Downloading package punkt to\n",
      "[nltk_data]     C:\\Users\\DELL\\AppData\\Roaming\\nltk_data...\n",
      "[nltk_data]   Package punkt is already up-to-date!\n",
      "[nltk_data] Downloading package wordnet to\n",
      "[nltk_data]     C:\\Users\\DELL\\AppData\\Roaming\\nltk_data...\n",
      "[nltk_data]   Package wordnet is already up-to-date!\n",
      "[nltk_data] Downloading package stopwords to\n",
      "[nltk_data]     C:\\Users\\DELL\\AppData\\Roaming\\nltk_data...\n",
      "[nltk_data]   Package stopwords is already up-to-date!\n"
     ]
    }
   ],
   "source": [
    "import pandas as pd\n",
    "import numpy as np\n",
    "import matplotlib.pyplot as plt\n",
    "import re\n",
    "import nltk\n",
    "from sklearn.decomposition import PCA\n",
    "from sklearn.preprocessing import LabelEncoder\n",
    "from nltk.tokenize import word_tokenize\n",
    "from nltk.corpus import stopwords\n",
    "from sklearn.model_selection import train_test_split\n",
    "import tensorflow as tf\n",
    "from tensorflow.keras.models import load_model\n",
    "from sklearn.metrics import classification_report\n",
    "from sklearn.linear_model import LogisticRegression\n",
    "from sklearn.metrics import accuracy_score\n",
    "from sklearn.metrics import f1_score\n",
    "from sklearn.metrics import accuracy_score, f1_score, classification_report\n",
    "from sklearn.ensemble import RandomForestClassifier\n",
    "from sklearn.metrics import confusion_matrix\n",
    "import seaborn as sns\n",
    "from sklearn.model_selection import KFold, StratifiedKFold, cross_val_score, learning_curve\n",
    "nltk.download('punkt')\n",
    "nltk.download('wordnet')\n",
    "nltk.download('stopwords')\n",
    "from sklearn.feature_extraction.text import TfidfVectorizer\n",
    "\n",
    "import warnings\n",
    "warnings.filterwarnings('ignore')"
   ]
  },
  {
   "cell_type": "code",
   "execution_count": 121,
   "metadata": {},
   "outputs": [],
   "source": [
    "df = pd.read_csv(r'data.csv')"
   ]
  },
  {
   "cell_type": "code",
   "execution_count": 122,
   "metadata": {},
   "outputs": [
    {
     "data": {
      "text/html": [
       "<div>\n",
       "<style scoped>\n",
       "    .dataframe tbody tr th:only-of-type {\n",
       "        vertical-align: middle;\n",
       "    }\n",
       "\n",
       "    .dataframe tbody tr th {\n",
       "        vertical-align: top;\n",
       "    }\n",
       "\n",
       "    .dataframe thead th {\n",
       "        text-align: right;\n",
       "    }\n",
       "</style>\n",
       "<table border=\"1\" class=\"dataframe\">\n",
       "  <thead>\n",
       "    <tr style=\"text-align: right;\">\n",
       "      <th></th>\n",
       "      <th>overall</th>\n",
       "      <th>verified</th>\n",
       "      <th>reviewerID</th>\n",
       "      <th>product</th>\n",
       "      <th>productID</th>\n",
       "      <th>reviewText</th>\n",
       "      <th>unixReviewTime</th>\n",
       "    </tr>\n",
       "  </thead>\n",
       "  <tbody>\n",
       "    <tr>\n",
       "      <th>0</th>\n",
       "      <td>5</td>\n",
       "      <td>1</td>\n",
       "      <td>A30VYJQW4XWDQ6</td>\n",
       "      <td>AGELESS™: UltraMAX Gold™ Capsules, HGH Anti-Ag...</td>\n",
       "      <td>B0011FYB5I</td>\n",
       "      <td>Made me look older, it was the opposite.</td>\n",
       "      <td>1472692083</td>\n",
       "    </tr>\n",
       "    <tr>\n",
       "      <th>1</th>\n",
       "      <td>5</td>\n",
       "      <td>1</td>\n",
       "      <td>A30VYJQW4XWDQ6</td>\n",
       "      <td>AGELESS™: UltraMAX Gold™ Capsules, HGH Anti-Ag...</td>\n",
       "      <td>B0011FYB5I</td>\n",
       "      <td>Works good with exercise.</td>\n",
       "      <td>1472690218</td>\n",
       "    </tr>\n",
       "    <tr>\n",
       "      <th>2</th>\n",
       "      <td>5</td>\n",
       "      <td>1</td>\n",
       "      <td>A28F08XFZRKIH5</td>\n",
       "      <td>All Natural Deodorant for Women &amp; Men. Organic...</td>\n",
       "      <td>B01DKQAXC0</td>\n",
       "      <td>great smell, and work better than the bad stuf...</td>\n",
       "      <td>1472692009</td>\n",
       "    </tr>\n",
       "    <tr>\n",
       "      <th>3</th>\n",
       "      <td>3</td>\n",
       "      <td>1</td>\n",
       "      <td>A157AUOFPJQ46Q</td>\n",
       "      <td>American Crew Body Wash for Men, Tea Tree Leaf...</td>\n",
       "      <td>B000X7ST9Y</td>\n",
       "      <td>I don't understand the bad reviews because thi...</td>\n",
       "      <td>1472690166</td>\n",
       "    </tr>\n",
       "    <tr>\n",
       "      <th>4</th>\n",
       "      <td>5</td>\n",
       "      <td>1</td>\n",
       "      <td>A2USMIT2CSA08</td>\n",
       "      <td>Andalou Naturals, Toner Facial Toner Helps Hyd...</td>\n",
       "      <td>B0091OCA86</td>\n",
       "      <td>Smells amazing and does a good job of refreshi...</td>\n",
       "      <td>1472691711</td>\n",
       "    </tr>\n",
       "  </tbody>\n",
       "</table>\n",
       "</div>"
      ],
      "text/plain": [
       "   overall  verified      reviewerID  \\\n",
       "0        5         1  A30VYJQW4XWDQ6   \n",
       "1        5         1  A30VYJQW4XWDQ6   \n",
       "2        5         1  A28F08XFZRKIH5   \n",
       "3        3         1  A157AUOFPJQ46Q   \n",
       "4        5         1   A2USMIT2CSA08   \n",
       "\n",
       "                                             product   productID  \\\n",
       "0  AGELESS™: UltraMAX Gold™ Capsules, HGH Anti-Ag...  B0011FYB5I   \n",
       "1  AGELESS™: UltraMAX Gold™ Capsules, HGH Anti-Ag...  B0011FYB5I   \n",
       "2  All Natural Deodorant for Women & Men. Organic...  B01DKQAXC0   \n",
       "3  American Crew Body Wash for Men, Tea Tree Leaf...  B000X7ST9Y   \n",
       "4  Andalou Naturals, Toner Facial Toner Helps Hyd...  B0091OCA86   \n",
       "\n",
       "                                          reviewText  unixReviewTime  \n",
       "0           Made me look older, it was the opposite.      1472692083  \n",
       "1                          Works good with exercise.      1472690218  \n",
       "2  great smell, and work better than the bad stuf...      1472692009  \n",
       "3  I don't understand the bad reviews because thi...      1472690166  \n",
       "4  Smells amazing and does a good job of refreshi...      1472691711  "
      ]
     },
     "execution_count": 122,
     "metadata": {},
     "output_type": "execute_result"
    }
   ],
   "source": [
    "df.head()"
   ]
  },
  {
   "cell_type": "markdown",
   "metadata": {},
   "source": [
    "## Text preprocessing"
   ]
  },
  {
   "cell_type": "code",
   "execution_count": 123,
   "metadata": {},
   "outputs": [
    {
     "data": {
      "text/html": [
       "<div>\n",
       "<style scoped>\n",
       "    .dataframe tbody tr th:only-of-type {\n",
       "        vertical-align: middle;\n",
       "    }\n",
       "\n",
       "    .dataframe tbody tr th {\n",
       "        vertical-align: top;\n",
       "    }\n",
       "\n",
       "    .dataframe thead th {\n",
       "        text-align: right;\n",
       "    }\n",
       "</style>\n",
       "<table border=\"1\" class=\"dataframe\">\n",
       "  <thead>\n",
       "    <tr style=\"text-align: right;\">\n",
       "      <th></th>\n",
       "      <th>overall</th>\n",
       "      <th>verified</th>\n",
       "      <th>reviewerID</th>\n",
       "      <th>productID</th>\n",
       "      <th>reviewText</th>\n",
       "    </tr>\n",
       "  </thead>\n",
       "  <tbody>\n",
       "    <tr>\n",
       "      <th>0</th>\n",
       "      <td>5</td>\n",
       "      <td>1</td>\n",
       "      <td>A30VYJQW4XWDQ6</td>\n",
       "      <td>B0011FYB5I</td>\n",
       "      <td>Made me look older, it was the opposite.</td>\n",
       "    </tr>\n",
       "    <tr>\n",
       "      <th>1</th>\n",
       "      <td>5</td>\n",
       "      <td>1</td>\n",
       "      <td>A30VYJQW4XWDQ6</td>\n",
       "      <td>B0011FYB5I</td>\n",
       "      <td>Works good with exercise.</td>\n",
       "    </tr>\n",
       "    <tr>\n",
       "      <th>2</th>\n",
       "      <td>5</td>\n",
       "      <td>1</td>\n",
       "      <td>A28F08XFZRKIH5</td>\n",
       "      <td>B01DKQAXC0</td>\n",
       "      <td>great smell, and work better than the bad stuf...</td>\n",
       "    </tr>\n",
       "    <tr>\n",
       "      <th>3</th>\n",
       "      <td>3</td>\n",
       "      <td>1</td>\n",
       "      <td>A157AUOFPJQ46Q</td>\n",
       "      <td>B000X7ST9Y</td>\n",
       "      <td>I don't understand the bad reviews because thi...</td>\n",
       "    </tr>\n",
       "    <tr>\n",
       "      <th>4</th>\n",
       "      <td>5</td>\n",
       "      <td>1</td>\n",
       "      <td>A2USMIT2CSA08</td>\n",
       "      <td>B0091OCA86</td>\n",
       "      <td>Smells amazing and does a good job of refreshi...</td>\n",
       "    </tr>\n",
       "    <tr>\n",
       "      <th>...</th>\n",
       "      <td>...</td>\n",
       "      <td>...</td>\n",
       "      <td>...</td>\n",
       "      <td>...</td>\n",
       "      <td>...</td>\n",
       "    </tr>\n",
       "    <tr>\n",
       "      <th>4216</th>\n",
       "      <td>5</td>\n",
       "      <td>0</td>\n",
       "      <td>A3E5V5TSTAY3R9</td>\n",
       "      <td>B0006O10P4</td>\n",
       "      <td>This is the best smelling soap I've ever found...</td>\n",
       "    </tr>\n",
       "    <tr>\n",
       "      <th>4217</th>\n",
       "      <td>5</td>\n",
       "      <td>0</td>\n",
       "      <td>A3E5V5TSTAY3R9</td>\n",
       "      <td>B0006O10P4</td>\n",
       "      <td>This is the best smelling soap I've ever found...</td>\n",
       "    </tr>\n",
       "    <tr>\n",
       "      <th>4218</th>\n",
       "      <td>5</td>\n",
       "      <td>0</td>\n",
       "      <td>A281NPSIMI1C2R</td>\n",
       "      <td>B0006O10P4</td>\n",
       "      <td>Warm, soothing and a little spicy. This zum ba...</td>\n",
       "    </tr>\n",
       "    <tr>\n",
       "      <th>4219</th>\n",
       "      <td>5</td>\n",
       "      <td>1</td>\n",
       "      <td>A3E5V5TSTAY3R9</td>\n",
       "      <td>B0006O10P4</td>\n",
       "      <td>I decided to SPLURGE ($8.98 for a 3 oz. bar) a...</td>\n",
       "    </tr>\n",
       "    <tr>\n",
       "      <th>4220</th>\n",
       "      <td>5</td>\n",
       "      <td>1</td>\n",
       "      <td>A3E5V5TSTAY3R9</td>\n",
       "      <td>B0006O10P4</td>\n",
       "      <td>This is the best smelling soap I've ever found...</td>\n",
       "    </tr>\n",
       "  </tbody>\n",
       "</table>\n",
       "<p>4221 rows × 5 columns</p>\n",
       "</div>"
      ],
      "text/plain": [
       "      overall  verified      reviewerID   productID  \\\n",
       "0           5         1  A30VYJQW4XWDQ6  B0011FYB5I   \n",
       "1           5         1  A30VYJQW4XWDQ6  B0011FYB5I   \n",
       "2           5         1  A28F08XFZRKIH5  B01DKQAXC0   \n",
       "3           3         1  A157AUOFPJQ46Q  B000X7ST9Y   \n",
       "4           5         1   A2USMIT2CSA08  B0091OCA86   \n",
       "...       ...       ...             ...         ...   \n",
       "4216        5         0  A3E5V5TSTAY3R9  B0006O10P4   \n",
       "4217        5         0  A3E5V5TSTAY3R9  B0006O10P4   \n",
       "4218        5         0  A281NPSIMI1C2R  B0006O10P4   \n",
       "4219        5         1  A3E5V5TSTAY3R9  B0006O10P4   \n",
       "4220        5         1  A3E5V5TSTAY3R9  B0006O10P4   \n",
       "\n",
       "                                             reviewText  \n",
       "0              Made me look older, it was the opposite.  \n",
       "1                             Works good with exercise.  \n",
       "2     great smell, and work better than the bad stuf...  \n",
       "3     I don't understand the bad reviews because thi...  \n",
       "4     Smells amazing and does a good job of refreshi...  \n",
       "...                                                 ...  \n",
       "4216  This is the best smelling soap I've ever found...  \n",
       "4217  This is the best smelling soap I've ever found...  \n",
       "4218  Warm, soothing and a little spicy. This zum ba...  \n",
       "4219  I decided to SPLURGE ($8.98 for a 3 oz. bar) a...  \n",
       "4220  This is the best smelling soap I've ever found...  \n",
       "\n",
       "[4221 rows x 5 columns]"
      ]
     },
     "execution_count": 123,
     "metadata": {},
     "output_type": "execute_result"
    }
   ],
   "source": [
    "df.drop('product', axis=1, inplace=True)\n",
    "df.drop('unixReviewTime', axis=1, inplace=True)\n",
    "df"
   ]
  },
  {
   "cell_type": "code",
   "execution_count": 124,
   "metadata": {},
   "outputs": [],
   "source": [
    "def remove_bullet_points(text):\n",
    "    bullet_point_pattern = re.compile(r'\\s*[\\u2022\\u2023\\u25E6]\\s*') \n",
    "    cleaned_text = bullet_point_pattern.sub(' ', text)\n",
    "\n",
    "    return cleaned_text"
   ]
  },
  {
   "cell_type": "code",
   "execution_count": 125,
   "metadata": {},
   "outputs": [],
   "source": [
    "def remove_emojis_and_symbols_from_text(text):\n",
    "    # Define pattern to match emojis\n",
    "    emoji_pattern = re.compile(\"[\"\n",
    "                           u\"\\U0001F600-\\U0001F64F\"  # emoticons\n",
    "                           u\"\\U0001F300-\\U0001F5FF\"  # symbols & pictographs\n",
    "                           u\"\\U0001F680-\\U0001F6FF\"  # transport & map symbols\n",
    "                           u\"\\U0001F1E0-\\U0001F1FF\"  # flags (iOS)\n",
    "                           u\"\\U00002500-\\U00002BEF\"  # chinese char\n",
    "                           u\"\\U00002702-\\U000027B0\"\n",
    "                           u\"\\U00002702-\\U000027B0\"\n",
    "                           u\"\\U000024C2-\\U0001F251\"\n",
    "                           u\"\\U0001f926-\\U0001f937\"\n",
    "                           u\"\\U00010000-\\U0010ffff\"\n",
    "                           u\"\\u2640-\\u2642\"\n",
    "                           u\"\\u2600-\\u2B55\"\n",
    "                           u\"\\u200d\"\n",
    "                           u\"\\u23cf\"\n",
    "                           u\"\\u23e9\"\n",
    "                           u\"\\u231a\"\n",
    "                           u\"\\ufe0f\"  # dingbats\n",
    "                           u\"\\u3030\"\n",
    "                           u\"\\u00ae\" # trade Marks ®\n",
    "                           u\"\\u00A9\" # copy Right ©\n",
    "                           u\"\\u2122\" # Trade Mark TM\n",
    "                           u\"\\u200b\"\n",
    "                           \"]+\", flags=re.UNICODE)\n",
    "    # Remove emojis from the text\n",
    "    cleaned_text = emoji_pattern.sub(r' ', text)\n",
    "    return cleaned_text"
   ]
  },
  {
   "cell_type": "code",
   "execution_count": 126,
   "metadata": {},
   "outputs": [],
   "source": [
    "def decontraction(x):\n",
    "    contractions = {\n",
    "        \"you've\": 'you have',\n",
    "        \"you're\": 'you are',\n",
    "        \"haven't\": 'have not',\n",
    "        \"hasn't\": 'has not',\n",
    "        \"hadn't've\": 'had not have',\n",
    "        \"hadn't\": 'had not',\n",
    "        \"don't\": 'do not',\n",
    "        \"doesn't\": 'does not',\n",
    "        \"didn't\": 'did not',\n",
    "        \"couldn't've\": 'could not have',\n",
    "        \"couldn't\": 'could not',\n",
    "        \"could've\": 'could have',\n",
    "        \"'cause\": 'because',\n",
    "        \"can't've\": 'cannot have',\n",
    "        \"aren't\": 'are not',\n",
    "        \"ain't\": 'am not',\n",
    "        \"can't\": 'can not',\n",
    "        \"won't\": 'will not',\n",
    "        \"he'd\": 'he would',\n",
    "        \"he'd've\": 'he would have',\n",
    "        \"he'll\": 'he will',\n",
    "        \"he'll've\": 'he will have',\n",
    "        \"he's\": 'he is',\n",
    "        \"how'd\": 'how did',\n",
    "        \"how'd'y\": 'how do you',\n",
    "        \"how'll\": 'how will',\n",
    "        \"how's\": 'how does',\n",
    "        \"i'd\": 'i would',\n",
    "        \"i'd've\": 'i would have',\n",
    "        \"i'll\": 'i will',\n",
    "        \"i'll've\": 'i will have',\n",
    "        \"i'm\": 'i am',\n",
    "        \"i've\": 'i have',\n",
    "        \"isn't\": 'is not',\n",
    "        \"it'd\": 'it would',\n",
    "        \"it'd've\": 'it would have',\n",
    "        \"it'll\": 'it will',\n",
    "        \"it'll've\": 'it will have',\n",
    "        \"it's\": 'it is',\n",
    "        \"let's\": 'let us',\n",
    "        \"ma'am\": 'madam',\n",
    "        \"mayn't\": 'may not',\n",
    "        \"might've\": 'might have',\n",
    "        \"mightn't\": 'might not',\n",
    "        \"mightn't've\": 'might not have',\n",
    "        \"must've\": 'must have',\n",
    "        \"mustn't\": 'must not',\n",
    "        \"mustn't've\": 'must not have',\n",
    "        \"needn't\": 'need not',\n",
    "        \"needn't've\": 'need not have',\n",
    "        \"o'clock\": 'of the clock',\n",
    "        \"oughtn't\": 'ought not',\n",
    "        \"oughtn't've\": 'ought not have',\n",
    "        \"shan't\": 'shall not',\n",
    "        \"sha'n't\": 'shall not',\n",
    "        \"shan't've\": 'shall not have',\n",
    "        \"she'd\": 'she would',\n",
    "        \"she'd've\": 'she would have',\n",
    "        \"she'll\": 'she will',\n",
    "        \"she'll've\": 'she will have',\n",
    "        \"she's\": 'she is',\n",
    "        \"should've\": 'should have',\n",
    "        \"shouldn't\": 'should not',\n",
    "        \"shouldn't've\": 'should not have',\n",
    "        \"so've\": 'so have',\n",
    "        \"so's\": 'so is',\n",
    "        \"that'd\": 'that would',\n",
    "        \"that'd've\": 'that would have',\n",
    "        \"that's\": 'that is',\n",
    "        \"there'd\": 'there would',\n",
    "        \"there'd've\": 'there would have',\n",
    "        \"there's\": 'there is',\n",
    "        \"they'd\": 'they would',\n",
    "        \"they'd've\": 'they would have',\n",
    "        \"they'll\": 'they will',\n",
    "        \"they'll've\": 'they will have',\n",
    "        \"they're\": 'they are',\n",
    "        \"they've\": 'they have',\n",
    "        \"to've\": 'to have',\n",
    "        \"wasn't\": 'was not',\n",
    "        \"we're\": 'we are',\n",
    "        \"'s\": \" is\",\n",
    "        \"n't\": ' not',\n",
    "        \"'re\": ' are',\n",
    "        \"'d\": ' would',\n",
    "        \"'ll\": ' will',\n",
    "        \"'t\": ' not',\n",
    "        \"'ve\": ' have',\n",
    "        \"'m\": ' am',\n",
    "        ' u ': ' you ',\n",
    "        ' ur ': ' your ',\n",
    "        ' n ': ' and '\n",
    "    }\n",
    "\n",
    "    contractions_comma = {\n",
    "        \"you’ve\": 'you have',\n",
    "        \"you’re\": 'you are',\n",
    "        \"haven’t\": 'have not',\n",
    "        \"hasn’t\": 'has not',\n",
    "        \"hadn’t've\": 'had not have',\n",
    "        \"hadn’t\": 'had not',\n",
    "        \"don’t\": 'do not',\n",
    "        \"doesn’t\": 'does not',\n",
    "        \"didn’t\": 'did not',\n",
    "        \"couldn’t’ve\": 'could not have',\n",
    "        \"couldn’t\": 'could not',\n",
    "        \"could’ve\": 'could have',\n",
    "        \"’cause\": 'because',\n",
    "        \"can’t’ve\": 'cannot have',\n",
    "        \"aren’t\": 'are not',\n",
    "        \"ain’t\": 'am not',\n",
    "        \"can’t\": 'can not',\n",
    "        \"won’t\": 'will not',\n",
    "        \"he’d\": 'he would',\n",
    "        \"he'd've\": 'he would have',\n",
    "        \"he’ll\": 'he will',\n",
    "        \"he’ll’ve\": 'he will have',\n",
    "        \"he’s\": 'he is',\n",
    "        \"how’d\": 'how did',\n",
    "        \"how’d'y\": 'how do you',\n",
    "        \"how’ll\": 'how will',\n",
    "        \"how’s\": 'how does',\n",
    "        \"i’d\": 'i would',\n",
    "        \"i’d’ve\": 'i would have',\n",
    "        \"i’ll\": 'i will',\n",
    "        \"i’ll’ve\": 'i will have',\n",
    "        \"i’m\": 'i am',\n",
    "        \"i’ve\": 'i have',\n",
    "        \"isn’t\": 'is not',\n",
    "        \"it’d\": 'it would',\n",
    "        \"it’d’ve\": 'it would have',\n",
    "        \"it’ll\": 'it will',\n",
    "        \"it'll've\": 'it will have',\n",
    "        \"it’s\": 'it is',\n",
    "        \"let's\": 'let us',\n",
    "        \"ma’am\": 'madam',\n",
    "        \"mayn’t\": 'may not',\n",
    "        \"might’ve\": 'might have',\n",
    "        \"mightn’t\": 'might not',\n",
    "        \"mightn’t've\": 'might not have',\n",
    "        \"must’ve\": 'must have',\n",
    "        \"mustn’t\": 'must not',\n",
    "        \"mustn’t’ve\": 'must not have',\n",
    "        \"needn’t\": 'need not',\n",
    "        \"needn’t’ve\": 'need not have',\n",
    "        \"o’clock\": 'of the clock',\n",
    "        \"oughtn’t\": 'ought not',\n",
    "        \"oughtn’t’ve\": 'ought not have',\n",
    "        \"shan’t\": 'shall not',\n",
    "        \"sha’n’t\": 'shall not',\n",
    "        \"shan’t’ve\": 'shall not have',\n",
    "        \"she’d\": 'she would',\n",
    "        \"she’d’ve\": 'she would have',\n",
    "        \"she’ll\": 'she will',\n",
    "        \"she’ll’ve\": 'she will have',\n",
    "        \"she’s\": 'she is',\n",
    "        \"should’ve\": 'should have',\n",
    "        \"shouldn’t\": 'should not',\n",
    "        \"shouldn't've\": 'should not have',\n",
    "        \"so’ve\": 'so have',\n",
    "        \"so's\": 'so is',\n",
    "        \"that’d\": 'that would',\n",
    "        \"that’d've\": 'that would have',\n",
    "        \"that’s\": 'that is',\n",
    "        \"there’d\": 'there would',\n",
    "        \"there’d’ve\": 'there would have',\n",
    "        \"there’s\": 'there is',\n",
    "        \"they’d\": 'they would',\n",
    "        \"they’d've\": 'they would have',\n",
    "        \"they’ll\": 'they will',\n",
    "        \"they’ll've\": 'they will have',\n",
    "        \"they’re\": 'they are',\n",
    "        \"they’ve\": 'they have',\n",
    "        \"to’ve\": 'to have',\n",
    "        \"wasn’t\": 'was not',\n",
    "        \"we’re\": 'we are',\n",
    "        \"’s\": \" is\",\n",
    "        \"n’t\": ' not',\n",
    "        \"’re\": ' are',\n",
    "        \"’d\": ' would',\n",
    "        \"’ll\": ' will',\n",
    "        \"’t\": ' not',\n",
    "        \"’ve\": ' have',\n",
    "        \"’m\": ' am',\n",
    "        ' u ': ' you ',\n",
    "        ' ur ': ' your ',\n",
    "        ' n ': ' and '\n",
    "    }\n",
    "\n",
    "    for key in contractions:\n",
    "        value = contractions[key]\n",
    "        x = x.replace(key, value)\n",
    "\n",
    "    for key in contractions_comma:\n",
    "        value = contractions_comma[key]\n",
    "        x = x.replace(key, value)\n",
    "    return x"
   ]
  },
  {
   "cell_type": "code",
   "execution_count": 127,
   "metadata": {},
   "outputs": [],
   "source": [
    "def removepunc(x):\n",
    "    punctuation = '!\\xad\\xa0\\xe2\\x80\\x9d\\xe2\\x80\\x99\\xe2\\x80\\xa2()*+-/:;<=>[]^_`{|}~@#,.?$%&\"”“’‘\\'…<>«»'\n",
    "    translation_table = str.maketrans(punctuation, ' ' * len(punctuation))\n",
    "    return x.translate(translation_table)"
   ]
  },
  {
   "cell_type": "code",
   "execution_count": 128,
   "metadata": {},
   "outputs": [],
   "source": [
    "def remove_extra_spaces(text):\n",
    "    return re.sub(r'\\s+', ' ', text)"
   ]
  },
  {
   "cell_type": "code",
   "execution_count": 129,
   "metadata": {},
   "outputs": [],
   "source": [
    "def remove_html_tags(text):\n",
    "    clean = re.compile('<.*?>')\n",
    "    return re.sub(clean, ' ', text)"
   ]
  },
  {
   "cell_type": "code",
   "execution_count": 130,
   "metadata": {},
   "outputs": [],
   "source": [
    "def remove_ampersand(text):\n",
    "    text = text.replace('&amp;', '')\n",
    "    text = text.replace('andamp;', '')\n",
    "    return text"
   ]
  },
  {
   "cell_type": "code",
   "execution_count": 131,
   "metadata": {},
   "outputs": [],
   "source": [
    "def remove_code_from_text(text):\n",
    "    code_pattern = r'\\b[0-9a-fA-F]{64}\\b'  # Assuming the code is a 64-character hexadecimal string\n",
    "    cleaned_text = re.sub(code_pattern, ' ', text)\n",
    "\n",
    "    return cleaned_text"
   ]
  },
  {
   "cell_type": "code",
   "execution_count": 132,
   "metadata": {},
   "outputs": [],
   "source": [
    "def remove_number_from_text(text):\n",
    "    number_pattern = r'[0-9]'  # Assuming the code is a 64-character hexadecimal string\n",
    "    cleaned_text = re.sub(number_pattern, ' ', text)\n",
    "\n",
    "    return cleaned_text"
   ]
  },
  {
   "cell_type": "code",
   "execution_count": 133,
   "metadata": {},
   "outputs": [],
   "source": [
    "def remove_currency_symbols(text):\n",
    "    currency_pattern = re.compile(r'[$€¥₹£¢₽₩₪₴₱₨฿₦₮₲₭₵₿]')  # Matches any currency symbol\n",
    "    cleaned_text = currency_pattern.sub(' ', text)\n",
    "\n",
    "    return cleaned_text"
   ]
  },
  {
   "cell_type": "code",
   "execution_count": 134,
   "metadata": {},
   "outputs": [],
   "source": [
    "def remove_hyphens(text):\n",
    "    hyphen_pattern = re.compile(r'\\b(\\w+)[-—‑–](\\w+)\\b')  # Matches hyphens within words\n",
    "    cleaned_text = hyphen_pattern.sub(r'\\1 \\2', text)\n",
    "\n",
    "    return cleaned_text"
   ]
  },
  {
   "cell_type": "code",
   "execution_count": 135,
   "metadata": {},
   "outputs": [],
   "source": [
    "def text_processing(text):\n",
    "\n",
    "    # Lowercasing text\n",
    "    text = text.lower()\n",
    "\n",
    "    # Removing URLs from text\n",
    "    text = re.sub(r\"http\\S+\", \"\", text)\n",
    "\n",
    "    # Removing newline character\n",
    "    text = re.sub(r\"\\n\", \"\", text)\n",
    "\n",
    "    # Replacing & character with 'and'\n",
    "    text = re.sub(r\"&\", \"and\", text)\n",
    "\n",
    "    # Removing HTML tags\n",
    "    text = remove_html_tags(text)\n",
    "\n",
    "    # Removing ampersand from the text\n",
    "    text = remove_ampersand(text)\n",
    "\n",
    "    # Performing decontraction on the text\n",
    "    text = decontraction(text)\n",
    "\n",
    "    # Removing the punctuations from the text\n",
    "    text = removepunc(text)\n",
    "\n",
    "    # Removing 64-character hexadecimal string in the text\n",
    "    text = remove_code_from_text(text)\n",
    "\n",
    "    # Removing number in the text\n",
    "    text = remove_number_from_text(text)\n",
    "\n",
    "    # Removing emojis from text\n",
    "    text = remove_emojis_and_symbols_from_text(text)\n",
    "\n",
    "    # Remove •, ‣, and ◦ bullet points\n",
    "    text = remove_bullet_points(text)\n",
    "\n",
    "    # Remove hyphens from hyphenated word\n",
    "    text = remove_hyphens(text)\n",
    "\n",
    "    # Remove currency symbols from the text\n",
    "    text = remove_currency_symbols(text)\n",
    "\n",
    "    # Removing extra space in the text\n",
    "    text = remove_extra_spaces(text)\n",
    "\n",
    "    return text"
   ]
  },
  {
   "cell_type": "code",
   "execution_count": 136,
   "metadata": {},
   "outputs": [
    {
     "data": {
      "text/plain": [
       "0              made me look older it was the opposite \n",
       "1                            works good with exercise \n",
       "2    great smell and work better than the bad stuff...\n",
       "3    i do not understand the bad reviews because th...\n",
       "4    smells amazing and does a good job of refreshi...\n",
       "Name: clean_reviewText, dtype: object"
      ]
     },
     "execution_count": 136,
     "metadata": {},
     "output_type": "execute_result"
    }
   ],
   "source": [
    "df['clean_reviewText'] = df['reviewText'].map(str).apply(text_processing)\n",
    "df['clean_reviewText'].head()"
   ]
  },
  {
   "cell_type": "markdown",
   "metadata": {},
   "source": [
    "#### Tokenization\n",
    "\n",
    "Splitting the input text into individual words. The most basic and common method for word tokenization is to split the text on whitespace characters (spaces, tabs, newlines) to separate words"
   ]
  },
  {
   "cell_type": "code",
   "execution_count": 137,
   "metadata": {},
   "outputs": [],
   "source": [
    "df['tokenized'] = df['clean_reviewText'].apply(lambda sentence:word_tokenize(sentence))"
   ]
  },
  {
   "cell_type": "code",
   "execution_count": 138,
   "metadata": {},
   "outputs": [
    {
     "data": {
      "text/plain": [
       "0         [made, me, look, older, it, was, the, opposite]\n",
       "1                           [works, good, with, exercise]\n",
       "2       [great, smell, and, work, better, than, the, b...\n",
       "3       [i, do, not, understand, the, bad, reviews, be...\n",
       "4       [smells, amazing, and, does, a, good, job, of,...\n",
       "                              ...                        \n",
       "4216    [this, is, the, best, smelling, soap, i, have,...\n",
       "4217    [this, is, the, best, smelling, soap, i, have,...\n",
       "4218    [warm, soothing, and, a, little, spicy, this, ...\n",
       "4219    [i, decided, to, splurge, for, a, oz, bar, and...\n",
       "4220    [this, is, the, best, smelling, soap, i, have,...\n",
       "Name: tokenized, Length: 4221, dtype: object"
      ]
     },
     "execution_count": 138,
     "metadata": {},
     "output_type": "execute_result"
    }
   ],
   "source": [
    "df['tokenized']"
   ]
  },
  {
   "cell_type": "markdown",
   "metadata": {},
   "source": [
    "#### Removing stopwords\n",
    "\n",
    "Stopwords are commonly used words in a language that are considered to have little or no semantic meaning, e.g 'the', 'is', 'and', 'a', 'an'\n",
    "\n",
    "Removing them reduce dimensionality without losing meaning -> overall W"
   ]
  },
  {
   "cell_type": "code",
   "execution_count": 139,
   "metadata": {},
   "outputs": [
    {
     "name": "stdout",
     "output_type": "stream",
     "text": [
      "Total number of Stop words:  179\n",
      "\n",
      "['i', 'me', 'my', 'myself', 'we', 'our', 'ours', 'ourselves', 'you', \"you're\", \"you've\", \"you'll\", \"you'd\", 'your', 'yours', 'yourself', 'yourselves', 'he', 'him', 'his', 'himself', 'she', \"she's\", 'her', 'hers', 'herself', 'it', \"it's\", 'its', 'itself', 'they', 'them', 'their', 'theirs', 'themselves', 'what', 'which', 'who', 'whom', 'this', 'that', \"that'll\", 'these', 'those', 'am', 'is', 'are', 'was', 'were', 'be', 'been', 'being', 'have', 'has', 'had', 'having', 'do', 'does', 'did', 'doing', 'a', 'an', 'the', 'and', 'but', 'if', 'or', 'because', 'as', 'until', 'while', 'of', 'at', 'by', 'for', 'with', 'about', 'against', 'between', 'into', 'through', 'during', 'before', 'after', 'above', 'below', 'to', 'from', 'up', 'down', 'in', 'out', 'on', 'off', 'over', 'under', 'again', 'further', 'then', 'once', 'here', 'there', 'when', 'where', 'why', 'how', 'all', 'any', 'both', 'each', 'few', 'more', 'most', 'other', 'some', 'such', 'no', 'nor', 'not', 'only', 'own', 'same', 'so', 'than', 'too', 'very', 's', 't', 'can', 'will', 'just', 'don', \"don't\", 'should', \"should've\", 'now', 'd', 'll', 'm', 'o', 're', 've', 'y', 'ain', 'aren', \"aren't\", 'couldn', \"couldn't\", 'didn', \"didn't\", 'doesn', \"doesn't\", 'hadn', \"hadn't\", 'hasn', \"hasn't\", 'haven', \"haven't\", 'isn', \"isn't\", 'ma', 'mightn', \"mightn't\", 'mustn', \"mustn't\", 'needn', \"needn't\", 'shan', \"shan't\", 'shouldn', \"shouldn't\", 'wasn', \"wasn't\", 'weren', \"weren't\", 'won', \"won't\", 'wouldn', \"wouldn't\"]\n"
     ]
    }
   ],
   "source": [
    "nltk_stopwords = stopwords.words('english')\n",
    "print(\"Total number of Stop words: \",len(nltk_stopwords))\n",
    "print()\n",
    "print(nltk_stopwords)"
   ]
  },
  {
   "cell_type": "code",
   "execution_count": 140,
   "metadata": {},
   "outputs": [
    {
     "data": {
      "text/plain": [
       "0                           [made, look, older, opposite]\n",
       "1                                 [works, good, exercise]\n",
       "2       [great, smell, work, better, bad, stuff, go, f...\n",
       "3       [understand, bad, reviews, excellent, body, wa...\n",
       "4       [smells, amazing, good, job, refreshing, provi...\n",
       "                              ...                        \n",
       "4216    [best, smelling, soap, ever, found, potently, ...\n",
       "4217    [best, smelling, soap, ever, found, potently, ...\n",
       "4218    [warm, soothing, little, spicy, zum, bar, soap...\n",
       "4219    [decided, splurge, oz, bar, buy, wonderfully, ...\n",
       "4220    [best, smelling, soap, ever, found, potently, ...\n",
       "Name: stopwords_removed, Length: 4221, dtype: object"
      ]
     },
     "execution_count": 140,
     "metadata": {},
     "output_type": "execute_result"
    }
   ],
   "source": [
    "def remove_stopwords(tokens):\n",
    "    # Get the English stop words from NLTK\n",
    "    stop_words = set(stopwords.words('english'))\n",
    "\n",
    "    return [word for word in tokens if word.lower() not in stop_words]\n",
    "\n",
    "# Removing stop words from the tokenized text column\n",
    "df['stopwords_removed'] = df['tokenized'].apply(remove_stopwords)\n",
    "\n",
    "df['stopwords_removed']"
   ]
  },
  {
   "cell_type": "code",
   "execution_count": 141,
   "metadata": {},
   "outputs": [],
   "source": [
    "# from sklearn.feature_extraction.text import TfidfVectorizer\n",
    "\n",
    "# # Sample data: a list of documents\n",
    "# documents = [\n",
    "#     \"The sky is blue.\",\n",
    "#     \"The sun is bright today.\",\n",
    "#     \"The sun in the sky is bright.\",\n",
    "#     \"We can see the shining sun, the bright sun.\"\n",
    "# ]\n",
    "\n",
    "# # Initialize the TfidfVectorizer\n",
    "# vectorizer = TfidfVectorizer()\n",
    "\n",
    "# # Fit and transform the documents\n",
    "# tfidf_matrix = vectorizer.fit_transform(documents)\n",
    "\n",
    "# # Convert the TF-IDF matrix to a dense format (optional)\n",
    "# tfidf_matrix_dense = tfidf_matrix.toarray()\n",
    "\n",
    "# # Get the feature names (words)\n",
    "# feature_names = vectorizer.get_feature_names_out()\n",
    "\n",
    "# # Display the TF-IDF matrix\n",
    "# print(\"TF-IDF Matrix (Dense Format):\")\n",
    "# print(tfidf_matrix_dense)\n",
    "\n",
    "# print(\"\\nFeature Names:\")\n",
    "# print(feature_names)\n",
    "\n",
    "# # Create a DataFrame for better visualization (optional)\n",
    "# import pandas as pd\n",
    "\n",
    "# df = pd.DataFrame(tfidf_matrix_dense, columns=feature_names)\n",
    "# print(\"\\nTF-IDF DataFrame:\")\n",
    "# print(df)\n"
   ]
  },
  {
   "cell_type": "markdown",
   "metadata": {},
   "source": [
    "#### Stemming\n",
    "\n",
    "Reduce words to their base or root form, called a stem. The stem may not necessarily be a valid word itself, but it represents the core meaning of the word."
   ]
  },
  {
   "cell_type": "code",
   "execution_count": 142,
   "metadata": {},
   "outputs": [
    {
     "data": {
      "text/html": [
       "<div>\n",
       "<style scoped>\n",
       "    .dataframe tbody tr th:only-of-type {\n",
       "        vertical-align: middle;\n",
       "    }\n",
       "\n",
       "    .dataframe tbody tr th {\n",
       "        vertical-align: top;\n",
       "    }\n",
       "\n",
       "    .dataframe thead th {\n",
       "        text-align: right;\n",
       "    }\n",
       "</style>\n",
       "<table border=\"1\" class=\"dataframe\">\n",
       "  <thead>\n",
       "    <tr style=\"text-align: right;\">\n",
       "      <th></th>\n",
       "      <th>overall</th>\n",
       "      <th>verified</th>\n",
       "      <th>reviewerID</th>\n",
       "      <th>productID</th>\n",
       "      <th>reviewText</th>\n",
       "      <th>clean_reviewText</th>\n",
       "      <th>tokenized</th>\n",
       "      <th>stopwords_removed</th>\n",
       "      <th>stemmatized_text</th>\n",
       "    </tr>\n",
       "  </thead>\n",
       "  <tbody>\n",
       "    <tr>\n",
       "      <th>0</th>\n",
       "      <td>5</td>\n",
       "      <td>1</td>\n",
       "      <td>A30VYJQW4XWDQ6</td>\n",
       "      <td>B0011FYB5I</td>\n",
       "      <td>Made me look older, it was the opposite.</td>\n",
       "      <td>made me look older it was the opposite</td>\n",
       "      <td>[made, me, look, older, it, was, the, opposite]</td>\n",
       "      <td>[made, look, older, opposite]</td>\n",
       "      <td>[made, look, older, opposit]</td>\n",
       "    </tr>\n",
       "    <tr>\n",
       "      <th>1</th>\n",
       "      <td>5</td>\n",
       "      <td>1</td>\n",
       "      <td>A30VYJQW4XWDQ6</td>\n",
       "      <td>B0011FYB5I</td>\n",
       "      <td>Works good with exercise.</td>\n",
       "      <td>works good with exercise</td>\n",
       "      <td>[works, good, with, exercise]</td>\n",
       "      <td>[works, good, exercise]</td>\n",
       "      <td>[work, good, exercis]</td>\n",
       "    </tr>\n",
       "    <tr>\n",
       "      <th>2</th>\n",
       "      <td>5</td>\n",
       "      <td>1</td>\n",
       "      <td>A28F08XFZRKIH5</td>\n",
       "      <td>B01DKQAXC0</td>\n",
       "      <td>great smell, and work better than the bad stuf...</td>\n",
       "      <td>great smell and work better than the bad stuff...</td>\n",
       "      <td>[great, smell, and, work, better, than, the, b...</td>\n",
       "      <td>[great, smell, work, better, bad, stuff, go, f...</td>\n",
       "      <td>[great, smell, work, better, bad, stuff, go, f...</td>\n",
       "    </tr>\n",
       "    <tr>\n",
       "      <th>3</th>\n",
       "      <td>3</td>\n",
       "      <td>1</td>\n",
       "      <td>A157AUOFPJQ46Q</td>\n",
       "      <td>B000X7ST9Y</td>\n",
       "      <td>I don't understand the bad reviews because thi...</td>\n",
       "      <td>i do not understand the bad reviews because th...</td>\n",
       "      <td>[i, do, not, understand, the, bad, reviews, be...</td>\n",
       "      <td>[understand, bad, reviews, excellent, body, wa...</td>\n",
       "      <td>[understand, bad, review, excel, bodi, wash, s...</td>\n",
       "    </tr>\n",
       "    <tr>\n",
       "      <th>4</th>\n",
       "      <td>5</td>\n",
       "      <td>1</td>\n",
       "      <td>A2USMIT2CSA08</td>\n",
       "      <td>B0091OCA86</td>\n",
       "      <td>Smells amazing and does a good job of refreshi...</td>\n",
       "      <td>smells amazing and does a good job of refreshi...</td>\n",
       "      <td>[smells, amazing, and, does, a, good, job, of,...</td>\n",
       "      <td>[smells, amazing, good, job, refreshing, provi...</td>\n",
       "      <td>[smell, amaz, good, job, refresh, provid, mois...</td>\n",
       "    </tr>\n",
       "  </tbody>\n",
       "</table>\n",
       "</div>"
      ],
      "text/plain": [
       "   overall  verified      reviewerID   productID  \\\n",
       "0        5         1  A30VYJQW4XWDQ6  B0011FYB5I   \n",
       "1        5         1  A30VYJQW4XWDQ6  B0011FYB5I   \n",
       "2        5         1  A28F08XFZRKIH5  B01DKQAXC0   \n",
       "3        3         1  A157AUOFPJQ46Q  B000X7ST9Y   \n",
       "4        5         1   A2USMIT2CSA08  B0091OCA86   \n",
       "\n",
       "                                          reviewText  \\\n",
       "0           Made me look older, it was the opposite.   \n",
       "1                          Works good with exercise.   \n",
       "2  great smell, and work better than the bad stuf...   \n",
       "3  I don't understand the bad reviews because thi...   \n",
       "4  Smells amazing and does a good job of refreshi...   \n",
       "\n",
       "                                    clean_reviewText  \\\n",
       "0            made me look older it was the opposite    \n",
       "1                          works good with exercise    \n",
       "2  great smell and work better than the bad stuff...   \n",
       "3  i do not understand the bad reviews because th...   \n",
       "4  smells amazing and does a good job of refreshi...   \n",
       "\n",
       "                                           tokenized  \\\n",
       "0    [made, me, look, older, it, was, the, opposite]   \n",
       "1                      [works, good, with, exercise]   \n",
       "2  [great, smell, and, work, better, than, the, b...   \n",
       "3  [i, do, not, understand, the, bad, reviews, be...   \n",
       "4  [smells, amazing, and, does, a, good, job, of,...   \n",
       "\n",
       "                                   stopwords_removed  \\\n",
       "0                      [made, look, older, opposite]   \n",
       "1                            [works, good, exercise]   \n",
       "2  [great, smell, work, better, bad, stuff, go, f...   \n",
       "3  [understand, bad, reviews, excellent, body, wa...   \n",
       "4  [smells, amazing, good, job, refreshing, provi...   \n",
       "\n",
       "                                    stemmatized_text  \n",
       "0                       [made, look, older, opposit]  \n",
       "1                              [work, good, exercis]  \n",
       "2  [great, smell, work, better, bad, stuff, go, f...  \n",
       "3  [understand, bad, review, excel, bodi, wash, s...  \n",
       "4  [smell, amaz, good, job, refresh, provid, mois...  "
      ]
     },
     "execution_count": 142,
     "metadata": {},
     "output_type": "execute_result"
    }
   ],
   "source": [
    "snow_stemmer = nltk.stem.SnowballStemmer('english')\n",
    "\n",
    "df['stemmatized_text'] = df['stopwords_removed'].apply(lambda x: [snow_stemmer.stem(word) for word in x])\n",
    "df.head()"
   ]
  },
  {
   "cell_type": "code",
   "execution_count": 143,
   "metadata": {},
   "outputs": [
    {
     "data": {
      "text/html": [
       "<div>\n",
       "<style scoped>\n",
       "    .dataframe tbody tr th:only-of-type {\n",
       "        vertical-align: middle;\n",
       "    }\n",
       "\n",
       "    .dataframe tbody tr th {\n",
       "        vertical-align: top;\n",
       "    }\n",
       "\n",
       "    .dataframe thead th {\n",
       "        text-align: right;\n",
       "    }\n",
       "</style>\n",
       "<table border=\"1\" class=\"dataframe\">\n",
       "  <thead>\n",
       "    <tr style=\"text-align: right;\">\n",
       "      <th></th>\n",
       "      <th>overall</th>\n",
       "      <th>verified</th>\n",
       "      <th>reviewerID</th>\n",
       "      <th>productID</th>\n",
       "      <th>reviewText</th>\n",
       "    </tr>\n",
       "  </thead>\n",
       "  <tbody>\n",
       "    <tr>\n",
       "      <th>0</th>\n",
       "      <td>5</td>\n",
       "      <td>1</td>\n",
       "      <td>A30VYJQW4XWDQ6</td>\n",
       "      <td>B0011FYB5I</td>\n",
       "      <td>[made, look, older, opposit]</td>\n",
       "    </tr>\n",
       "    <tr>\n",
       "      <th>1</th>\n",
       "      <td>5</td>\n",
       "      <td>1</td>\n",
       "      <td>A30VYJQW4XWDQ6</td>\n",
       "      <td>B0011FYB5I</td>\n",
       "      <td>[work, good, exercis]</td>\n",
       "    </tr>\n",
       "    <tr>\n",
       "      <th>2</th>\n",
       "      <td>5</td>\n",
       "      <td>1</td>\n",
       "      <td>A28F08XFZRKIH5</td>\n",
       "      <td>B01DKQAXC0</td>\n",
       "      <td>[great, smell, work, better, bad, stuff, go, f...</td>\n",
       "    </tr>\n",
       "    <tr>\n",
       "      <th>3</th>\n",
       "      <td>3</td>\n",
       "      <td>1</td>\n",
       "      <td>A157AUOFPJQ46Q</td>\n",
       "      <td>B000X7ST9Y</td>\n",
       "      <td>[understand, bad, review, excel, bodi, wash, s...</td>\n",
       "    </tr>\n",
       "    <tr>\n",
       "      <th>4</th>\n",
       "      <td>5</td>\n",
       "      <td>1</td>\n",
       "      <td>A2USMIT2CSA08</td>\n",
       "      <td>B0091OCA86</td>\n",
       "      <td>[smell, amaz, good, job, refresh, provid, mois...</td>\n",
       "    </tr>\n",
       "  </tbody>\n",
       "</table>\n",
       "</div>"
      ],
      "text/plain": [
       "   overall  verified      reviewerID   productID  \\\n",
       "0        5         1  A30VYJQW4XWDQ6  B0011FYB5I   \n",
       "1        5         1  A30VYJQW4XWDQ6  B0011FYB5I   \n",
       "2        5         1  A28F08XFZRKIH5  B01DKQAXC0   \n",
       "3        3         1  A157AUOFPJQ46Q  B000X7ST9Y   \n",
       "4        5         1   A2USMIT2CSA08  B0091OCA86   \n",
       "\n",
       "                                          reviewText  \n",
       "0                       [made, look, older, opposit]  \n",
       "1                              [work, good, exercis]  \n",
       "2  [great, smell, work, better, bad, stuff, go, f...  \n",
       "3  [understand, bad, review, excel, bodi, wash, s...  \n",
       "4  [smell, amaz, good, job, refresh, provid, mois...  "
      ]
     },
     "execution_count": 143,
     "metadata": {},
     "output_type": "execute_result"
    }
   ],
   "source": [
    "df = df.drop(['reviewText',\n",
    "              'tokenized', 'clean_reviewText', 'stopwords_removed'], axis=1)\n",
    "\n",
    "# Rename the column\n",
    "df = df.rename(columns={'stemmatized_text': 'reviewText'})\n",
    "df.head()"
   ]
  },
  {
   "cell_type": "code",
   "execution_count": 144,
   "metadata": {},
   "outputs": [
    {
     "data": {
      "text/plain": [
       "0                              made look older opposit\n",
       "1                                    work good exercis\n",
       "2           great smell work better bad stuff go figur\n",
       "3    understand bad review excel bodi wash smell ni...\n",
       "4    smell amaz good job refresh provid moistur fre...\n",
       "Name: new_reviewText, dtype: object"
      ]
     },
     "execution_count": 144,
     "metadata": {},
     "output_type": "execute_result"
    }
   ],
   "source": [
    "def join_words(tokens):\n",
    "    sentence = ' '.join(tokens)\n",
    "    return sentence\n",
    "\n",
    "# joining the tokenized words to provide as input to the TfidfVectorizer\n",
    "df['new_reviewText'] = df['reviewText'].apply(join_words)\n",
    "df['new_reviewText'].head()"
   ]
  },
  {
   "cell_type": "markdown",
   "metadata": {},
   "source": [
    "#### TfidfVectorizer\n",
    "\n",
    "Text feature vectorization."
   ]
  },
  {
   "cell_type": "code",
   "execution_count": 145,
   "metadata": {},
   "outputs": [
    {
     "data": {
      "text/html": [
       "<div>\n",
       "<style scoped>\n",
       "    .dataframe tbody tr th:only-of-type {\n",
       "        vertical-align: middle;\n",
       "    }\n",
       "\n",
       "    .dataframe tbody tr th {\n",
       "        vertical-align: top;\n",
       "    }\n",
       "\n",
       "    .dataframe thead th {\n",
       "        text-align: right;\n",
       "    }\n",
       "</style>\n",
       "<table border=\"1\" class=\"dataframe\">\n",
       "  <thead>\n",
       "    <tr style=\"text-align: right;\">\n",
       "      <th></th>\n",
       "      <th>aaa</th>\n",
       "      <th>abat</th>\n",
       "      <th>abil</th>\n",
       "      <th>abl</th>\n",
       "      <th>abras</th>\n",
       "      <th>absenc</th>\n",
       "      <th>absinth</th>\n",
       "      <th>absolut</th>\n",
       "      <th>absorb</th>\n",
       "      <th>abstain</th>\n",
       "      <th>...</th>\n",
       "      <th>yummi</th>\n",
       "      <th>yup</th>\n",
       "      <th>zeal</th>\n",
       "      <th>zent</th>\n",
       "      <th>zero</th>\n",
       "      <th>zest</th>\n",
       "      <th>zingi</th>\n",
       "      <th>zipper</th>\n",
       "      <th>zone</th>\n",
       "      <th>zum</th>\n",
       "    </tr>\n",
       "  </thead>\n",
       "  <tbody>\n",
       "    <tr>\n",
       "      <th>0</th>\n",
       "      <td>0.00</td>\n",
       "      <td>0.00</td>\n",
       "      <td>0.00</td>\n",
       "      <td>0.00</td>\n",
       "      <td>0.00</td>\n",
       "      <td>0.00</td>\n",
       "      <td>0.00</td>\n",
       "      <td>0.00</td>\n",
       "      <td>0.00</td>\n",
       "      <td>0.00</td>\n",
       "      <td>...</td>\n",
       "      <td>0.00</td>\n",
       "      <td>0.00</td>\n",
       "      <td>0.00</td>\n",
       "      <td>0.00</td>\n",
       "      <td>0.00</td>\n",
       "      <td>0.00</td>\n",
       "      <td>0.00</td>\n",
       "      <td>0.00</td>\n",
       "      <td>0.00</td>\n",
       "      <td>0.00</td>\n",
       "    </tr>\n",
       "    <tr>\n",
       "      <th>1</th>\n",
       "      <td>0.00</td>\n",
       "      <td>0.00</td>\n",
       "      <td>0.00</td>\n",
       "      <td>0.00</td>\n",
       "      <td>0.00</td>\n",
       "      <td>0.00</td>\n",
       "      <td>0.00</td>\n",
       "      <td>0.00</td>\n",
       "      <td>0.00</td>\n",
       "      <td>0.00</td>\n",
       "      <td>...</td>\n",
       "      <td>0.00</td>\n",
       "      <td>0.00</td>\n",
       "      <td>0.00</td>\n",
       "      <td>0.00</td>\n",
       "      <td>0.00</td>\n",
       "      <td>0.00</td>\n",
       "      <td>0.00</td>\n",
       "      <td>0.00</td>\n",
       "      <td>0.00</td>\n",
       "      <td>0.00</td>\n",
       "    </tr>\n",
       "    <tr>\n",
       "      <th>2</th>\n",
       "      <td>0.00</td>\n",
       "      <td>0.00</td>\n",
       "      <td>0.00</td>\n",
       "      <td>0.00</td>\n",
       "      <td>0.00</td>\n",
       "      <td>0.00</td>\n",
       "      <td>0.00</td>\n",
       "      <td>0.00</td>\n",
       "      <td>0.00</td>\n",
       "      <td>0.00</td>\n",
       "      <td>...</td>\n",
       "      <td>0.00</td>\n",
       "      <td>0.00</td>\n",
       "      <td>0.00</td>\n",
       "      <td>0.00</td>\n",
       "      <td>0.00</td>\n",
       "      <td>0.00</td>\n",
       "      <td>0.00</td>\n",
       "      <td>0.00</td>\n",
       "      <td>0.00</td>\n",
       "      <td>0.00</td>\n",
       "    </tr>\n",
       "    <tr>\n",
       "      <th>3</th>\n",
       "      <td>0.00</td>\n",
       "      <td>0.00</td>\n",
       "      <td>0.00</td>\n",
       "      <td>0.00</td>\n",
       "      <td>0.00</td>\n",
       "      <td>0.00</td>\n",
       "      <td>0.00</td>\n",
       "      <td>0.00</td>\n",
       "      <td>0.00</td>\n",
       "      <td>0.00</td>\n",
       "      <td>...</td>\n",
       "      <td>0.00</td>\n",
       "      <td>0.00</td>\n",
       "      <td>0.00</td>\n",
       "      <td>0.00</td>\n",
       "      <td>0.00</td>\n",
       "      <td>0.00</td>\n",
       "      <td>0.00</td>\n",
       "      <td>0.00</td>\n",
       "      <td>0.00</td>\n",
       "      <td>0.00</td>\n",
       "    </tr>\n",
       "    <tr>\n",
       "      <th>4</th>\n",
       "      <td>0.00</td>\n",
       "      <td>0.00</td>\n",
       "      <td>0.00</td>\n",
       "      <td>0.00</td>\n",
       "      <td>0.00</td>\n",
       "      <td>0.00</td>\n",
       "      <td>0.00</td>\n",
       "      <td>0.00</td>\n",
       "      <td>0.00</td>\n",
       "      <td>0.00</td>\n",
       "      <td>...</td>\n",
       "      <td>0.00</td>\n",
       "      <td>0.00</td>\n",
       "      <td>0.00</td>\n",
       "      <td>0.00</td>\n",
       "      <td>0.00</td>\n",
       "      <td>0.00</td>\n",
       "      <td>0.00</td>\n",
       "      <td>0.00</td>\n",
       "      <td>0.00</td>\n",
       "      <td>0.00</td>\n",
       "    </tr>\n",
       "  </tbody>\n",
       "</table>\n",
       "<p>5 rows × 3931 columns</p>\n",
       "</div>"
      ],
      "text/plain": [
       "   aaa  abat  abil  abl  abras  absenc  absinth  absolut  absorb  abstain  \\\n",
       "0 0.00  0.00  0.00 0.00   0.00    0.00     0.00     0.00    0.00     0.00   \n",
       "1 0.00  0.00  0.00 0.00   0.00    0.00     0.00     0.00    0.00     0.00   \n",
       "2 0.00  0.00  0.00 0.00   0.00    0.00     0.00     0.00    0.00     0.00   \n",
       "3 0.00  0.00  0.00 0.00   0.00    0.00     0.00     0.00    0.00     0.00   \n",
       "4 0.00  0.00  0.00 0.00   0.00    0.00     0.00     0.00    0.00     0.00   \n",
       "\n",
       "   ...  yummi  yup  zeal  zent  zero  zest  zingi  zipper  zone  zum  \n",
       "0  ...   0.00 0.00  0.00  0.00  0.00  0.00   0.00    0.00  0.00 0.00  \n",
       "1  ...   0.00 0.00  0.00  0.00  0.00  0.00   0.00    0.00  0.00 0.00  \n",
       "2  ...   0.00 0.00  0.00  0.00  0.00  0.00   0.00    0.00  0.00 0.00  \n",
       "3  ...   0.00 0.00  0.00  0.00  0.00  0.00   0.00    0.00  0.00 0.00  \n",
       "4  ...   0.00 0.00  0.00  0.00  0.00  0.00   0.00    0.00  0.00 0.00  \n",
       "\n",
       "[5 rows x 3931 columns]"
      ]
     },
     "execution_count": 145,
     "metadata": {},
     "output_type": "execute_result"
    }
   ],
   "source": [
    "tfidf_vectorizer = TfidfVectorizer()\n",
    "tfidf_matrix = tfidf_vectorizer.fit_transform(df['new_reviewText'])\n",
    "tfidf_df = pd.DataFrame(tfidf_matrix.toarray(), columns=tfidf_vectorizer.get_feature_names_out())\n",
    "tfidf_df.head()"
   ]
  },
  {
   "cell_type": "code",
   "execution_count": null,
   "metadata": {},
   "outputs": [],
   "source": [
    "num_components = 750 \n",
    "pc_words = [f\"PC{i}\" for i in range(1, num_components + 1)]\n",
    "\n",
    "print(pc_words)"
   ]
  },
  {
   "cell_type": "code",
   "execution_count": 147,
   "metadata": {},
   "outputs": [],
   "source": [
    "dense_tfidf_matrix = tfidf_matrix.toarray()\n",
    "pca = PCA(n_components=750)\n",
    "pca_result = pca.fit_transform(dense_tfidf_matrix)\n",
    "pca_df = pd.DataFrame(data=pca_result, columns=pc_words)\n",
    "\n",
    "pca_df\n",
    "pca_df = pca_df.reset_index(drop=True)"
   ]
  },
  {
   "cell_type": "code",
   "execution_count": 148,
   "metadata": {},
   "outputs": [],
   "source": [
    "a = pca.explained_variance_ratio_"
   ]
  },
  {
   "cell_type": "code",
   "execution_count": 149,
   "metadata": {},
   "outputs": [
    {
     "name": "stdout",
     "output_type": "stream",
     "text": [
      "0.9551594800326726\n"
     ]
    }
   ],
   "source": [
    "# Cumulative explained variance ratio\n",
    "b = np.cumsum(a)\n",
    "print(b[-1])"
   ]
  },
  {
   "cell_type": "code",
   "execution_count": 150,
   "metadata": {},
   "outputs": [
    {
     "data": {
      "image/png": "[encoded data removed]",
      "text/plain": [
       "<Figure size 1200x800 with 1 Axes>"
      ]
     },
     "metadata": {},
     "output_type": "display_data"
    }
   ],
   "source": [
    "plt.figure(figsize = (12, 8))\n",
    "plt.grid()\n",
    "plt.plot(range(1, len(b) + 1), b, color = 'teal', linewidth = 2)\n",
    "plt.xlabel('Number of Principal Components')\n",
    "plt.ylabel('Cumulative Explained Variance Ratio')\n",
    "plt.title('Cumulative Explained Variance Ratio by Principal Components', fontsize = 16)\n",
    "\n",
    "plt.axhline(y=0.95, color='red', linestyle='--')\n",
    "plt.text(100, 0.95, 'CV = 0.95', ha='left', va='bottom')\n",
    "\n",
    "# for i, var in enumerate(b):\n",
    "#     plt.text(i + 1, var, f'{var:.2f}', ha='right', va='bottom', fontsize = 12)\n",
    "\n",
    "plt.show()"
   ]
  },
  {
   "cell_type": "code",
   "execution_count": 151,
   "metadata": {},
   "outputs": [
    {
     "data": {
      "text/html": [
       "<div>\n",
       "<style scoped>\n",
       "    .dataframe tbody tr th:only-of-type {\n",
       "        vertical-align: middle;\n",
       "    }\n",
       "\n",
       "    .dataframe tbody tr th {\n",
       "        vertical-align: top;\n",
       "    }\n",
       "\n",
       "    .dataframe thead th {\n",
       "        text-align: right;\n",
       "    }\n",
       "</style>\n",
       "<table border=\"1\" class=\"dataframe\">\n",
       "  <thead>\n",
       "    <tr style=\"text-align: right;\">\n",
       "      <th></th>\n",
       "      <th>overall</th>\n",
       "      <th>verified</th>\n",
       "      <th>reviewerID</th>\n",
       "      <th>productID</th>\n",
       "    </tr>\n",
       "  </thead>\n",
       "  <tbody>\n",
       "    <tr>\n",
       "      <th>0</th>\n",
       "      <td>5</td>\n",
       "      <td>1</td>\n",
       "      <td>A30VYJQW4XWDQ6</td>\n",
       "      <td>B0011FYB5I</td>\n",
       "    </tr>\n",
       "    <tr>\n",
       "      <th>1</th>\n",
       "      <td>5</td>\n",
       "      <td>1</td>\n",
       "      <td>A30VYJQW4XWDQ6</td>\n",
       "      <td>B0011FYB5I</td>\n",
       "    </tr>\n",
       "    <tr>\n",
       "      <th>2</th>\n",
       "      <td>5</td>\n",
       "      <td>1</td>\n",
       "      <td>A28F08XFZRKIH5</td>\n",
       "      <td>B01DKQAXC0</td>\n",
       "    </tr>\n",
       "    <tr>\n",
       "      <th>3</th>\n",
       "      <td>3</td>\n",
       "      <td>1</td>\n",
       "      <td>A157AUOFPJQ46Q</td>\n",
       "      <td>B000X7ST9Y</td>\n",
       "    </tr>\n",
       "    <tr>\n",
       "      <th>4</th>\n",
       "      <td>5</td>\n",
       "      <td>1</td>\n",
       "      <td>A2USMIT2CSA08</td>\n",
       "      <td>B0091OCA86</td>\n",
       "    </tr>\n",
       "    <tr>\n",
       "      <th>...</th>\n",
       "      <td>...</td>\n",
       "      <td>...</td>\n",
       "      <td>...</td>\n",
       "      <td>...</td>\n",
       "    </tr>\n",
       "    <tr>\n",
       "      <th>4216</th>\n",
       "      <td>5</td>\n",
       "      <td>0</td>\n",
       "      <td>A3E5V5TSTAY3R9</td>\n",
       "      <td>B0006O10P4</td>\n",
       "    </tr>\n",
       "    <tr>\n",
       "      <th>4217</th>\n",
       "      <td>5</td>\n",
       "      <td>0</td>\n",
       "      <td>A3E5V5TSTAY3R9</td>\n",
       "      <td>B0006O10P4</td>\n",
       "    </tr>\n",
       "    <tr>\n",
       "      <th>4218</th>\n",
       "      <td>5</td>\n",
       "      <td>0</td>\n",
       "      <td>A281NPSIMI1C2R</td>\n",
       "      <td>B0006O10P4</td>\n",
       "    </tr>\n",
       "    <tr>\n",
       "      <th>4219</th>\n",
       "      <td>5</td>\n",
       "      <td>1</td>\n",
       "      <td>A3E5V5TSTAY3R9</td>\n",
       "      <td>B0006O10P4</td>\n",
       "    </tr>\n",
       "    <tr>\n",
       "      <th>4220</th>\n",
       "      <td>5</td>\n",
       "      <td>1</td>\n",
       "      <td>A3E5V5TSTAY3R9</td>\n",
       "      <td>B0006O10P4</td>\n",
       "    </tr>\n",
       "  </tbody>\n",
       "</table>\n",
       "<p>4221 rows × 4 columns</p>\n",
       "</div>"
      ],
      "text/plain": [
       "      overall  verified      reviewerID   productID\n",
       "0           5         1  A30VYJQW4XWDQ6  B0011FYB5I\n",
       "1           5         1  A30VYJQW4XWDQ6  B0011FYB5I\n",
       "2           5         1  A28F08XFZRKIH5  B01DKQAXC0\n",
       "3           3         1  A157AUOFPJQ46Q  B000X7ST9Y\n",
       "4           5         1   A2USMIT2CSA08  B0091OCA86\n",
       "...       ...       ...             ...         ...\n",
       "4216        5         0  A3E5V5TSTAY3R9  B0006O10P4\n",
       "4217        5         0  A3E5V5TSTAY3R9  B0006O10P4\n",
       "4218        5         0  A281NPSIMI1C2R  B0006O10P4\n",
       "4219        5         1  A3E5V5TSTAY3R9  B0006O10P4\n",
       "4220        5         1  A3E5V5TSTAY3R9  B0006O10P4\n",
       "\n",
       "[4221 rows x 4 columns]"
      ]
     },
     "execution_count": 151,
     "metadata": {},
     "output_type": "execute_result"
    }
   ],
   "source": [
    "df = df.drop(['reviewText', 'new_reviewText'], axis=1)\n",
    "df = df.reset_index(drop=True)\n",
    "df"
   ]
  },
  {
   "cell_type": "code",
   "execution_count": 152,
   "metadata": {},
   "outputs": [
    {
     "data": {
      "text/html": [
       "<div>\n",
       "<style scoped>\n",
       "    .dataframe tbody tr th:only-of-type {\n",
       "        vertical-align: middle;\n",
       "    }\n",
       "\n",
       "    .dataframe tbody tr th {\n",
       "        vertical-align: top;\n",
       "    }\n",
       "\n",
       "    .dataframe thead th {\n",
       "        text-align: right;\n",
       "    }\n",
       "</style>\n",
       "<table border=\"1\" class=\"dataframe\">\n",
       "  <thead>\n",
       "    <tr style=\"text-align: right;\">\n",
       "      <th></th>\n",
       "      <th>overall</th>\n",
       "      <th>verified</th>\n",
       "      <th>reviewerID_encoded</th>\n",
       "      <th>productID_encoded</th>\n",
       "    </tr>\n",
       "  </thead>\n",
       "  <tbody>\n",
       "    <tr>\n",
       "      <th>0</th>\n",
       "      <td>5</td>\n",
       "      <td>1</td>\n",
       "      <td>533</td>\n",
       "      <td>25</td>\n",
       "    </tr>\n",
       "    <tr>\n",
       "      <th>1</th>\n",
       "      <td>5</td>\n",
       "      <td>1</td>\n",
       "      <td>533</td>\n",
       "      <td>25</td>\n",
       "    </tr>\n",
       "    <tr>\n",
       "      <th>2</th>\n",
       "      <td>5</td>\n",
       "      <td>1</td>\n",
       "      <td>320</td>\n",
       "      <td>82</td>\n",
       "    </tr>\n",
       "    <tr>\n",
       "      <th>3</th>\n",
       "      <td>3</td>\n",
       "      <td>1</td>\n",
       "      <td>36</td>\n",
       "      <td>21</td>\n",
       "    </tr>\n",
       "    <tr>\n",
       "      <th>4</th>\n",
       "      <td>5</td>\n",
       "      <td>1</td>\n",
       "      <td>494</td>\n",
       "      <td>51</td>\n",
       "    </tr>\n",
       "    <tr>\n",
       "      <th>...</th>\n",
       "      <td>...</td>\n",
       "      <td>...</td>\n",
       "      <td>...</td>\n",
       "      <td>...</td>\n",
       "    </tr>\n",
       "    <tr>\n",
       "      <th>4216</th>\n",
       "      <td>5</td>\n",
       "      <td>0</td>\n",
       "      <td>623</td>\n",
       "      <td>4</td>\n",
       "    </tr>\n",
       "    <tr>\n",
       "      <th>4217</th>\n",
       "      <td>5</td>\n",
       "      <td>0</td>\n",
       "      <td>623</td>\n",
       "      <td>4</td>\n",
       "    </tr>\n",
       "    <tr>\n",
       "      <th>4218</th>\n",
       "      <td>5</td>\n",
       "      <td>0</td>\n",
       "      <td>317</td>\n",
       "      <td>4</td>\n",
       "    </tr>\n",
       "    <tr>\n",
       "      <th>4219</th>\n",
       "      <td>5</td>\n",
       "      <td>1</td>\n",
       "      <td>623</td>\n",
       "      <td>4</td>\n",
       "    </tr>\n",
       "    <tr>\n",
       "      <th>4220</th>\n",
       "      <td>5</td>\n",
       "      <td>1</td>\n",
       "      <td>623</td>\n",
       "      <td>4</td>\n",
       "    </tr>\n",
       "  </tbody>\n",
       "</table>\n",
       "<p>4221 rows × 4 columns</p>\n",
       "</div>"
      ],
      "text/plain": [
       "      overall  verified  reviewerID_encoded  productID_encoded\n",
       "0           5         1                 533                 25\n",
       "1           5         1                 533                 25\n",
       "2           5         1                 320                 82\n",
       "3           3         1                  36                 21\n",
       "4           5         1                 494                 51\n",
       "...       ...       ...                 ...                ...\n",
       "4216        5         0                 623                  4\n",
       "4217        5         0                 623                  4\n",
       "4218        5         0                 317                  4\n",
       "4219        5         1                 623                  4\n",
       "4220        5         1                 623                  4\n",
       "\n",
       "[4221 rows x 4 columns]"
      ]
     },
     "execution_count": 152,
     "metadata": {},
     "output_type": "execute_result"
    }
   ],
   "source": [
    "label_encoder = LabelEncoder()\n",
    "df['reviewerID_encoded'] = label_encoder.fit_transform(df['reviewerID'])\n",
    "df['productID_encoded'] = label_encoder.fit_transform(df['productID'])\n",
    "df.drop(['reviewerID', 'productID'], axis=1, inplace=True)\n",
    "df"
   ]
  },
  {
   "cell_type": "code",
   "execution_count": null,
   "metadata": {},
   "outputs": [],
   "source": [
    "df_final = pd.concat([df, pca_df], axis=1)\n",
    "df_final"
   ]
  },
  {
   "cell_type": "code",
   "execution_count": 154,
   "metadata": {},
   "outputs": [],
   "source": [
    "df_final.to_csv(\"biden2024.csv\", index=False)"
   ]
  },
  {
   "cell_type": "markdown",
   "metadata": {},
   "source": [
    "# TTVS"
   ]
  },
  {
   "cell_type": "code",
   "execution_count": 155,
   "metadata": {},
   "outputs": [],
   "source": [
    "X = df_final.drop('verified',axis =1)\n",
    "y = df_final['verified']"
   ]
  },
  {
   "cell_type": "code",
   "execution_count": 156,
   "metadata": {},
   "outputs": [
    {
     "data": {
      "text/plain": [
       "verified\n",
       "1    3423\n",
       "0     798\n",
       "Name: count, dtype: int64"
      ]
     },
     "execution_count": 156,
     "metadata": {},
     "output_type": "execute_result"
    }
   ],
   "source": [
    "y.value_counts()"
   ]
  },
  {
   "cell_type": "code",
   "execution_count": 157,
   "metadata": {},
   "outputs": [
    {
     "data": {
      "text/plain": [
       "Text(0.5, 1.0, 'Label Distribution')"
      ]
     },
     "execution_count": 157,
     "metadata": {},
     "output_type": "execute_result"
    },
    {
     "data": {
      "image/png": "[encoded data removed]",
      "text/plain": [
       "<Figure size 640x480 with 1 Axes>"
      ]
     },
     "metadata": {},
     "output_type": "display_data"
    }
   ],
   "source": [
    "sns.countplot(df_final,x = y)\n",
    "plt.grid()\n",
    "plt.title('Label Distribution')"
   ]
  },
  {
   "cell_type": "code",
   "execution_count": 158,
   "metadata": {},
   "outputs": [],
   "source": [
    "X_T,X_test,y_T,y_test =     train_test_split(X,y,test_size= 0.19,stratify=y,random_state= 4122004)\n",
    "X_train,X_val,y_train,y_val =     train_test_split(X_T,y_T,test_size= 0.11,stratify=y_T,random_state= 4122004)\n"
   ]
  },
  {
   "cell_type": "code",
   "execution_count": 159,
   "metadata": {},
   "outputs": [
    {
     "name": "stdout",
     "output_type": "stream",
     "text": [
      "y_train: 1615    1\n",
      "3416    0\n",
      "2101    1\n",
      "1689    0\n",
      "3664    0\n",
      "       ..\n",
      "3662    0\n",
      "3826    1\n",
      "2871    1\n",
      "3413    0\n",
      "3941    1\n",
      "Name: verified, Length: 3042, dtype: int64\n"
     ]
    }
   ],
   "source": [
    "# print(\"X_T:\", X_T)\n",
    "# print(\"X_test:\", X_test)\n",
    "# print(\"y_T:\", y_T)\n",
    "# print(\"y_test:\", y_test)\n",
    "# print(\"X_train:\", X_train)\n",
    "# print(\"X_val:\", X_val)\n",
    "print(\"y_train:\", y_train)\n",
    "# print(\"y_val:\", y_val)\n"
   ]
  },
  {
   "cell_type": "code",
   "execution_count": 160,
   "metadata": {},
   "outputs": [
    {
     "name": "stdout",
     "output_type": "stream",
     "text": [
      "X_train:       overall  reviewerID_encoded  productID_encoded   PC1   PC2   PC3   PC4  \\\n",
      "1615        4                   1                 13 -0.04 -0.06 -0.06 -0.05   \n",
      "3416        5                 353                 23 -0.05 -0.09 -0.05 -0.03   \n",
      "2101        5                 547                 13 -0.03 -0.09 -0.05 -0.05   \n",
      "1689        5                 659                 13 -0.05 -0.11  0.21 -0.16   \n",
      "3664        1                 147                 39  0.06 -0.04 -0.05 -0.03   \n",
      "...       ...                 ...                ...   ...   ...   ...   ...   \n",
      "3662        1                 768                 39 -0.03 -0.11 -0.11 -0.09   \n",
      "3826        2                 606                  5  0.10  0.04 -0.04  0.03   \n",
      "2871        5                 618                 71 -0.14  0.16 -0.08  0.01   \n",
      "3413        5                 150                 23 -0.04 -0.07 -0.04 -0.05   \n",
      "3941        5                 253                  5  0.10 -0.07 -0.05 -0.01   \n",
      "\n",
      "       PC5   PC6   PC7  ...  PC741  PC742  PC743  PC744  PC745  PC746  PC747  \\\n",
      "1615  0.07  0.11  0.05  ...  -0.00   0.02  -0.01  -0.01  -0.00  -0.00   0.01   \n",
      "3416  0.04 -0.03 -0.02  ...   0.00   0.00   0.02  -0.00  -0.01  -0.04   0.02   \n",
      "2101  0.03 -0.06 -0.05  ...   0.01  -0.01   0.01   0.01  -0.00   0.00  -0.00   \n",
      "1689 -0.10 -0.03  0.02  ...  -0.01  -0.01  -0.00  -0.01  -0.00  -0.00   0.01   \n",
      "3664  0.00  0.05 -0.02  ...  -0.07   0.02   0.01   0.00  -0.00   0.01   0.02   \n",
      "...    ...   ...   ...  ...    ...    ...    ...    ...    ...    ...    ...   \n",
      "3662 -0.03  0.04 -0.01  ...  -0.03  -0.03  -0.07  -0.02  -0.02  -0.01  -0.03   \n",
      "3826 -0.07 -0.00 -0.07  ...  -0.02   0.01   0.00  -0.01   0.00   0.01  -0.01   \n",
      "2871 -0.13 -0.10 -0.03  ...  -0.00   0.00  -0.00   0.00  -0.00  -0.00   0.00   \n",
      "3413 -0.01 -0.04 -0.04  ...  -0.04  -0.00   0.04   0.01   0.02  -0.01   0.02   \n",
      "3941  0.07 -0.06  0.02  ...  -0.01   0.01  -0.00  -0.02   0.03   0.01  -0.01   \n",
      "\n",
      "      PC748  PC749  PC750  \n",
      "1615  -0.02   0.02   0.01  \n",
      "3416   0.01   0.00   0.02  \n",
      "2101   0.00  -0.01   0.00  \n",
      "1689  -0.00   0.00   0.01  \n",
      "3664   0.01  -0.01  -0.03  \n",
      "...     ...    ...    ...  \n",
      "3662  -0.00   0.01  -0.02  \n",
      "3826  -0.01   0.01  -0.01  \n",
      "2871   0.00  -0.00  -0.00  \n",
      "3413   0.00   0.09  -0.02  \n",
      "3941   0.00   0.00  -0.01  \n",
      "\n",
      "[3042 rows x 753 columns]\n"
     ]
    }
   ],
   "source": [
    "print(\"X_train:\", X_train)"
   ]
  },
  {
   "cell_type": "markdown",
   "metadata": {},
   "source": [
    "## ANN"
   ]
  },
  {
   "cell_type": "code",
   "execution_count": 161,
   "metadata": {},
   "outputs": [],
   "source": [
    "from scikeras.wrappers import KerasClassifier\n",
    "from sklearn.model_selection import GridSearchCV\n",
    "from tensorflow.keras.models import Sequential\n",
    "from tensorflow.keras.layers import Dense\n",
    "from tensorflow.keras.optimizers import Adam, SGD"
   ]
  },
  {
   "cell_type": "code",
   "execution_count": 162,
   "metadata": {},
   "outputs": [],
   "source": [
    "X_T_Ann = X_T\n",
    "X_test_Ann = X_test\n",
    "y_test_Ann = y_test\n",
    "X_train_Ann = X_train\n",
    "X_val_Ann = X_val\n",
    "y_train_Ann = y_train\n",
    "y_val_Ann = y_val\n",
    "y_T_Ann = y_T"
   ]
  },
  {
   "cell_type": "code",
   "execution_count": 163,
   "metadata": {},
   "outputs": [
    {
     "name": "stdout",
     "output_type": "stream",
     "text": [
      "Epoch 1/20\n",
      "\u001b[1m381/381\u001b[0m \u001b[32m━━━━━━━━━━━━━━━━━━━━\u001b[0m\u001b[37m\u001b[0m \u001b[1m3s\u001b[0m 2ms/step - accuracy: 0.7874 - loss: 0.6445\n",
      "Epoch 2/20\n",
      "\u001b[1m381/381\u001b[0m \u001b[32m━━━━━━━━━━━━━━━━━━━━\u001b[0m\u001b[37m\u001b[0m \u001b[1m1s\u001b[0m 1ms/step - accuracy: 0.8019 - loss: 0.5005\n",
      "Epoch 3/20\n",
      "\u001b[1m381/381\u001b[0m \u001b[32m━━━━━━━━━━━━━━━━━━━━\u001b[0m\u001b[37m\u001b[0m \u001b[1m1s\u001b[0m 1ms/step - accuracy: 0.8102 - loss: 0.4619\n",
      "Epoch 4/20\n",
      "\u001b[1m381/381\u001b[0m \u001b[32m━━━━━━━━━━━━━━━━━━━━\u001b[0m\u001b[37m\u001b[0m \u001b[1m1s\u001b[0m 2ms/step - accuracy: 0.8064 - loss: 0.5347\n",
      "Epoch 5/20\n",
      "\u001b[1m381/381\u001b[0m \u001b[32m━━━━━━━━━━━━━━━━━━━━\u001b[0m\u001b[37m\u001b[0m \u001b[1m1s\u001b[0m 1ms/step - accuracy: 0.8253 - loss: 0.4278\n",
      "Epoch 6/20\n",
      "\u001b[1m381/381\u001b[0m \u001b[32m━━━━━━━━━━━━━━━━━━━━\u001b[0m\u001b[37m\u001b[0m \u001b[1m1s\u001b[0m 2ms/step - accuracy: 0.8315 - loss: 0.4017\n",
      "Epoch 7/20\n",
      "\u001b[1m381/381\u001b[0m \u001b[32m━━━━━━━━━━━━━━━━━━━━\u001b[0m\u001b[37m\u001b[0m \u001b[1m1s\u001b[0m 1ms/step - accuracy: 0.8383 - loss: 0.3991\n",
      "Epoch 8/20\n",
      "\u001b[1m381/381\u001b[0m \u001b[32m━━━━━━━━━━━━━━━━━━━━\u001b[0m\u001b[37m\u001b[0m \u001b[1m0s\u001b[0m 1ms/step - accuracy: 0.8558 - loss: 0.3618\n",
      "Epoch 9/20\n",
      "\u001b[1m381/381\u001b[0m \u001b[32m━━━━━━━━━━━━━━━━━━━━\u001b[0m\u001b[37m\u001b[0m \u001b[1m0s\u001b[0m 1ms/step - accuracy: 0.8788 - loss: 0.3133\n",
      "Epoch 10/20\n",
      "\u001b[1m381/381\u001b[0m \u001b[32m━━━━━━━━━━━━━━━━━━━━\u001b[0m\u001b[37m\u001b[0m \u001b[1m1s\u001b[0m 1ms/step - accuracy: 0.8975 - loss: 0.2831\n",
      "Epoch 11/20\n",
      "\u001b[1m381/381\u001b[0m \u001b[32m━━━━━━━━━━━━━━━━━━━━\u001b[0m\u001b[37m\u001b[0m \u001b[1m1s\u001b[0m 1ms/step - accuracy: 0.9135 - loss: 0.2294\n",
      "Epoch 12/20\n",
      "\u001b[1m381/381\u001b[0m \u001b[32m━━━━━━━━━━━━━━━━━━━━\u001b[0m\u001b[37m\u001b[0m \u001b[1m1s\u001b[0m 1ms/step - accuracy: 0.9068 - loss: 0.2606\n",
      "Epoch 13/20\n",
      "\u001b[1m381/381\u001b[0m \u001b[32m━━━━━━━━━━━━━━━━━━━━\u001b[0m\u001b[37m\u001b[0m \u001b[1m0s\u001b[0m 1ms/step - accuracy: 0.9287 - loss: 0.2049\n",
      "Epoch 14/20\n",
      "\u001b[1m381/381\u001b[0m \u001b[32m━━━━━━━━━━━━━━━━━━━━\u001b[0m\u001b[37m\u001b[0m \u001b[1m1s\u001b[0m 1ms/step - accuracy: 0.9390 - loss: 0.1716\n",
      "Epoch 15/20\n",
      "\u001b[1m381/381\u001b[0m \u001b[32m━━━━━━━━━━━━━━━━━━━━\u001b[0m\u001b[37m\u001b[0m \u001b[1m1s\u001b[0m 1ms/step - accuracy: 0.9499 - loss: 0.1632\n",
      "Epoch 16/20\n",
      "\u001b[1m381/381\u001b[0m \u001b[32m━━━━━━━━━━━━━━━━━━━━\u001b[0m\u001b[37m\u001b[0m \u001b[1m0s\u001b[0m 1ms/step - accuracy: 0.9436 - loss: 0.1653\n",
      "Epoch 17/20\n",
      "\u001b[1m381/381\u001b[0m \u001b[32m━━━━━━━━━━━━━━━━━━━━\u001b[0m\u001b[37m\u001b[0m \u001b[1m0s\u001b[0m 1ms/step - accuracy: 0.9596 - loss: 0.1308\n",
      "Epoch 18/20\n",
      "\u001b[1m381/381\u001b[0m \u001b[32m━━━━━━━━━━━━━━━━━━━━\u001b[0m\u001b[37m\u001b[0m \u001b[1m1s\u001b[0m 2ms/step - accuracy: 0.9480 - loss: 0.1616\n",
      "Epoch 19/20\n",
      "\u001b[1m381/381\u001b[0m \u001b[32m━━━━━━━━━━━━━━━━━━━━\u001b[0m\u001b[37m\u001b[0m \u001b[1m1s\u001b[0m 1ms/step - accuracy: 0.9677 - loss: 0.1149\n",
      "Epoch 20/20\n",
      "\u001b[1m381/381\u001b[0m \u001b[32m━━━━━━━━━━━━━━━━━━━━\u001b[0m\u001b[37m\u001b[0m \u001b[1m1s\u001b[0m 2ms/step - accuracy: 0.9585 - loss: 0.1341\n",
      "Best: 0.9171597633136095 using {'batch_size': 8, 'epochs': 20, 'init': 'glorot_uniform', 'optimizer': 'adam'}\n",
      "Epoch 1/20\n",
      "\u001b[1m381/381\u001b[0m \u001b[32m━━━━━━━━━━━━━━━━━━━━\u001b[0m\u001b[37m\u001b[0m \u001b[1m1s\u001b[0m 1ms/step - accuracy: 0.9727 - loss: 0.0827\n",
      "Epoch 2/20\n",
      "\u001b[1m381/381\u001b[0m \u001b[32m━━━━━━━━━━━━━━━━━━━━\u001b[0m\u001b[37m\u001b[0m \u001b[1m0s\u001b[0m 1ms/step - accuracy: 0.9616 - loss: 0.1099\n",
      "Epoch 3/20\n",
      "\u001b[1m381/381\u001b[0m \u001b[32m━━━━━━━━━━━━━━━━━━━━\u001b[0m\u001b[37m\u001b[0m \u001b[1m0s\u001b[0m 1ms/step - accuracy: 0.9601 - loss: 0.1322\n",
      "Epoch 4/20\n",
      "\u001b[1m381/381\u001b[0m \u001b[32m━━━━━━━━━━━━━━━━━━━━\u001b[0m\u001b[37m\u001b[0m \u001b[1m0s\u001b[0m 1ms/step - accuracy: 0.9568 - loss: 0.1517\n",
      "Epoch 5/20\n",
      "\u001b[1m381/381\u001b[0m \u001b[32m━━━━━━━━━━━━━━━━━━━━\u001b[0m\u001b[37m\u001b[0m \u001b[1m0s\u001b[0m 1ms/step - accuracy: 0.9620 - loss: 0.1193\n",
      "Epoch 6/20\n",
      "\u001b[1m381/381\u001b[0m \u001b[32m━━━━━━━━━━━━━━━━━━━━\u001b[0m\u001b[37m\u001b[0m \u001b[1m0s\u001b[0m 1ms/step - accuracy: 0.9561 - loss: 0.1340\n",
      "Epoch 7/20\n",
      "\u001b[1m381/381\u001b[0m \u001b[32m━━━━━━━━━━━━━━━━━━━━\u001b[0m\u001b[37m\u001b[0m \u001b[1m0s\u001b[0m 1ms/step - accuracy: 0.9310 - loss: 0.2037\n",
      "Epoch 8/20\n",
      "\u001b[1m381/381\u001b[0m \u001b[32m━━━━━━━━━━━━━━━━━━━━\u001b[0m\u001b[37m\u001b[0m \u001b[1m0s\u001b[0m 1ms/step - accuracy: 0.9622 - loss: 0.1150\n",
      "Epoch 9/20\n",
      "\u001b[1m381/381\u001b[0m \u001b[32m━━━━━━━━━━━━━━━━━━━━\u001b[0m\u001b[37m\u001b[0m \u001b[1m0s\u001b[0m 1ms/step - accuracy: 0.9622 - loss: 0.1142\n",
      "Epoch 10/20\n",
      "\u001b[1m381/381\u001b[0m \u001b[32m━━━━━━━━━━━━━━━━━━━━\u001b[0m\u001b[37m\u001b[0m \u001b[1m0s\u001b[0m 1ms/step - accuracy: 0.9564 - loss: 0.1146\n",
      "Epoch 11/20\n",
      "\u001b[1m381/381\u001b[0m \u001b[32m━━━━━━━━━━━━━━━━━━━━\u001b[0m\u001b[37m\u001b[0m \u001b[1m1s\u001b[0m 1ms/step - accuracy: 0.9629 - loss: 0.1236\n",
      "Epoch 12/20\n",
      "\u001b[1m381/381\u001b[0m \u001b[32m━━━━━━━━━━━━━━━━━━━━\u001b[0m\u001b[37m\u001b[0m \u001b[1m0s\u001b[0m 1ms/step - accuracy: 0.9738 - loss: 0.0773\n",
      "Epoch 13/20\n",
      "\u001b[1m381/381\u001b[0m \u001b[32m━━━━━━━━━━━━━━━━━━━━\u001b[0m\u001b[37m\u001b[0m \u001b[1m0s\u001b[0m 1ms/step - accuracy: 0.9403 - loss: 0.1889\n",
      "Epoch 14/20\n",
      "\u001b[1m381/381\u001b[0m \u001b[32m━━━━━━━━━━━━━━━━━━━━\u001b[0m\u001b[37m\u001b[0m \u001b[1m0s\u001b[0m 1ms/step - accuracy: 0.9679 - loss: 0.0941\n",
      "Epoch 15/20\n",
      "\u001b[1m381/381\u001b[0m \u001b[32m━━━━━━━━━━━━━━━━━━━━\u001b[0m\u001b[37m\u001b[0m \u001b[1m0s\u001b[0m 1ms/step - accuracy: 0.9813 - loss: 0.0609\n",
      "Epoch 16/20\n",
      "\u001b[1m381/381\u001b[0m \u001b[32m━━━━━━━━━━━━━━━━━━━━\u001b[0m\u001b[37m\u001b[0m \u001b[1m0s\u001b[0m 1ms/step - accuracy: 0.9674 - loss: 0.0994\n",
      "Epoch 17/20\n",
      "\u001b[1m381/381\u001b[0m \u001b[32m━━━━━━━━━━━━━━━━━━━━\u001b[0m\u001b[37m\u001b[0m \u001b[1m0s\u001b[0m 1ms/step - accuracy: 0.9717 - loss: 0.0970\n",
      "Epoch 18/20\n",
      "\u001b[1m381/381\u001b[0m \u001b[32m━━━━━━━━━━━━━━━━━━━━\u001b[0m\u001b[37m\u001b[0m \u001b[1m0s\u001b[0m 1ms/step - accuracy: 0.9642 - loss: 0.1236\n",
      "Epoch 19/20\n",
      "\u001b[1m381/381\u001b[0m \u001b[32m━━━━━━━━━━━━━━━━━━━━\u001b[0m\u001b[37m\u001b[0m \u001b[1m1s\u001b[0m 1ms/step - accuracy: 0.9465 - loss: 0.1629\n",
      "Epoch 20/20\n",
      "\u001b[1m381/381\u001b[0m \u001b[32m━━━━━━━━━━━━━━━━━━━━\u001b[0m\u001b[37m\u001b[0m \u001b[1m0s\u001b[0m 1ms/step - accuracy: 0.9741 - loss: 0.0774\n"
     ]
    }
   ],
   "source": [
    "def create_model(optimizer='adam', init='glorot_uniform'):\n",
    "    model = Sequential()\n",
    "    model.add(Dense(16, input_shape=(753,), activation='relu', kernel_initializer=init))\n",
    "    model.add(Dense(32, activation='relu', kernel_initializer=init))\n",
    "    model.add(Dense(32, activation='relu', kernel_initializer=init))\n",
    "    model.add(Dense(2, activation='softmax'))\n",
    "    model.compile(optimizer=optimizer, loss='sparse_categorical_crossentropy', metrics=['accuracy'])\n",
    "    return model\n",
    "\n",
    "model = KerasClassifier(model=create_model, optimizer='adam', init='glorot_uniform')\n",
    "\n",
    "batch_size = [8, 16, 32]\n",
    "epochs = [10, 20]\n",
    "optimizer = ['SGD', 'adam']\n",
    "init = ['glorot_uniform', 'normal', 'uniform']\n",
    "\n",
    "param_grid = dict(batch_size=batch_size, epochs=epochs, optimizer=optimizer, init=init)\n",
    "\n",
    "grid = GridSearchCV(estimator=model, param_grid=param_grid, n_jobs=-1, cv=3)\n",
    "\n",
    "grid_result = grid.fit(X_train_Ann, y_train_Ann)\n",
    "\n",
    "print(f\"Best: {grid_result.best_score_} using {grid_result.best_params_}\")\n",
    "means = grid_result.cv_results_['mean_test_score']\n",
    "stds = grid_result.cv_results_['std_test_score']\n",
    "params = grid_result.cv_results_['params']\n",
    "\n",
    "best_model = grid_result.best_estimator_.model_\n",
    "\n",
    "best_model.fit(X_train_Ann, y_train_Ann, epochs=grid_result.best_params_['epochs'], batch_size=grid_result.best_params_['batch_size'])\n",
    "\n",
    "best_model.save('model_Ann.keras')"
   ]
  },
  {
   "cell_type": "code",
   "execution_count": 164,
   "metadata": {},
   "outputs": [
    {
     "name": "stdout",
     "output_type": "stream",
     "text": [
      "\u001b[1m26/26\u001b[0m \u001b[32m━━━━━━━━━━━━━━━━━━━━\u001b[0m\u001b[37m\u001b[0m \u001b[1m0s\u001b[0m 2ms/step\n",
      "Classification Report:\n",
      "               precision    recall  f1-score   support\n",
      "\n",
      "           0       0.93      0.79      0.85       152\n",
      "           1       0.95      0.99      0.97       650\n",
      "\n",
      "    accuracy                           0.95       802\n",
      "   macro avg       0.94      0.89      0.91       802\n",
      "weighted avg       0.95      0.95      0.95       802\n",
      "\n",
      "________________________________________________________\n",
      "Confusion matrix: \n",
      "                  Predicted: Spam  Predicted: Not Spam\n",
      "Actual: Spam                  120                   32\n",
      "Actual: Not Spam                9                  641\n"
     ]
    }
   ],
   "source": [
    "y_pred_prob_Ann = best_model.predict(X_test_Ann)\n",
    "y_pred_Ann = np.argmax(y_pred_prob_Ann, axis=1)\n",
    "\n",
    "report_ann = classification_report(y_test_Ann, y_pred_Ann)\n",
    "print(f\"Classification Report:\\n\", report_ann)\n",
    "\n",
    "cm = pd.DataFrame(confusion_matrix(y_test, y_pred_Ann), ['Actual: Spam', 'Actual: Not Spam'], ['Predicted: Spam', 'Predicted: Not Spam'])\n",
    "\n",
    "print('________________________________________________________')\n",
    "print('Confusion matrix: ')\n",
    "print(cm)"
   ]
  },
  {
   "cell_type": "code",
   "execution_count": 165,
   "metadata": {},
   "outputs": [
    {
     "name": "stdout",
     "output_type": "stream",
     "text": [
      "\u001b[1m26/26\u001b[0m \u001b[32m━━━━━━━━━━━━━━━━━━━━\u001b[0m\u001b[37m\u001b[0m \u001b[1m0s\u001b[0m 1ms/step - accuracy: 0.9329 - loss: 0.2259  \n",
      "Artificial Neural Network Accuracy: 94.8878\n"
     ]
    }
   ],
   "source": [
    "results_ann = best_model.evaluate(X_test_Ann, y_test_Ann)\n",
    "accuracy_ann = results_ann[-1]\n",
    "print(f\"Artificial Neural Network Accuracy: {accuracy_ann * 100:.4f}\")"
   ]
  },
  {
   "cell_type": "markdown",
   "metadata": {},
   "source": [
    "## Random Forest"
   ]
  },
  {
   "cell_type": "code",
   "execution_count": 166,
   "metadata": {},
   "outputs": [],
   "source": [
    "from sklearn.ensemble import RandomForestClassifier\n",
    "from sklearn.model_selection import RandomizedSearchCV\n",
    "from sklearn.metrics import accuracy_score"
   ]
  },
  {
   "cell_type": "code",
   "execution_count": 167,
   "metadata": {},
   "outputs": [],
   "source": [
    "X_T_Rf = X_T\n",
    "X_test_Rf = X_test\n",
    "y_test_Rf = y_test\n",
    "X_train_Rf = X_train\n",
    "X_val_Rf = X_val\n",
    "y_train_Rf = y_train\n",
    "y_val_Rf = y_val\n",
    "y_T_Rf = y_T"
   ]
  },
  {
   "cell_type": "code",
   "execution_count": 168,
   "metadata": {},
   "outputs": [],
   "source": [
    "# from sklearn.ensemble import RandomForestClassifier\n",
    "# from sklearn.model_selection import GridSearchCV\n",
    "# from sklearn.metrics import accuracy_score\n",
    "# import joblib\n",
    "\n",
    "# X_T_Rf = X_T\n",
    "# X_test_Rf = X_test\n",
    "# y_test_Rf = y_test\n",
    "# X_train_Rf = X_train\n",
    "# X_val_Rf = X_val\n",
    "# y_train_Rf = y_train\n",
    "# y_val_Rf = y_val\n",
    "# y_T_Rf = y_T\n",
    "\n",
    "# param_grid = {\n",
    "#     'n_estimators': [50, 100, 200],\n",
    "#     'max_features': ['auto', 'sqrt', 'log2'],\n",
    "#     'max_depth': [None, 10, 20, 30],\n",
    "#     'min_samples_split': [2, 5, 10],\n",
    "#     'min_samples_leaf': [1, 2, 4],\n",
    "#     'bootstrap': [True, False]\n",
    "# }\n",
    "\n",
    "# rf_classifier = RandomForestClassifier(random_state=42)\n",
    "\n",
    "# grid_search = GridSearchCV(estimator=rf_classifier, param_grid=param_grid, \n",
    "#                            cv=3, verbose=2)\n",
    "\n",
    "# grid_search.fit(X_train_Rf, y_train_Rf)\n",
    "\n",
    "# print(f\"Best: {grid_search.best_score_} using {grid_search.best_params_}\")\n",
    "\n",
    "# best_rf_model = grid_search.best_estimator_\n",
    "\n",
    "# if X_test_Rf is not None and y_test_Rf is not None:\n",
    "#     y_pred = best_rf_model.predict(X_test_Rf)\n",
    "#     test_accuracy = accuracy_score(y_test_Rf, y_pred)\n",
    "#     print(f\"Test Accuracy: {test_accuracy}\")\n",
    "\n",
    "# joblib.dump(best_rf_model, 'model_Rf.pkl')"
   ]
  },
  {
   "cell_type": "code",
   "execution_count": 169,
   "metadata": {},
   "outputs": [
    {
     "name": "stdout",
     "output_type": "stream",
     "text": [
      "Best: 0.9582511505588429 using {'n_estimators': 250, 'min_samples_split': 4, 'min_samples_leaf': 1, 'max_features': 'sqrt', 'max_depth': None, 'bootstrap': False}\n",
      "Test Accuracy: 0.9688279301745636\n"
     ]
    },
    {
     "data": {
      "text/plain": [
       "['model_Rf.pkl']"
      ]
     },
     "execution_count": 169,
     "metadata": {},
     "output_type": "execute_result"
    }
   ],
   "source": [
    "\n",
    "param_dist = {\n",
    "    'n_estimators': np.arange(50, 251, 50),          \n",
    "    'max_features': ['auto', 'sqrt', 'log2'],        \n",
    "    'max_depth': [None, 10, 20, 30, 40, 50],          \n",
    "    'min_samples_split': np.arange(2, 11),            \n",
    "    'min_samples_leaf': np.arange(1, 5),              \n",
    "    'bootstrap': [True, False]                        \n",
    "}\n",
    "\n",
    "rf_classifier = RandomForestClassifier(random_state=42)\n",
    "\n",
    "random_search = RandomizedSearchCV(estimator=rf_classifier, param_distributions=param_dist, \n",
    "                                   n_iter=100, cv=3, random_state=42)\n",
    "\n",
    "random_search.fit(X_train_Rf, y_train_Rf)\n",
    "\n",
    "print(f\"Best: {random_search.best_score_} using {random_search.best_params_}\")\n",
    "\n",
    "best_rf_model = random_search.best_estimator_\n",
    "\n",
    "if X_test_Rf is not None and y_test_Rf is not None:\n",
    "    y_pred = best_rf_model.predict(X_test_Rf)\n",
    "    test_accuracy = accuracy_score(y_test_Rf, y_pred)\n",
    "    print(f\"Test Accuracy: {test_accuracy}\")\n",
    "\n",
    "joblib.dump(best_rf_model, 'model_Rf.pkl')"
   ]
  },
  {
   "cell_type": "code",
   "execution_count": 170,
   "metadata": {},
   "outputs": [
    {
     "name": "stdout",
     "output_type": "stream",
     "text": [
      "Classification Report:\n",
      "               precision    recall  f1-score   support\n",
      "\n",
      "           0       0.90      0.94      0.92       152\n",
      "           1       0.99      0.98      0.98       650\n",
      "\n",
      "    accuracy                           0.97       802\n",
      "   macro avg       0.94      0.96      0.95       802\n",
      "weighted avg       0.97      0.97      0.97       802\n",
      "\n",
      "________________________________________________________\n",
      "Confusion matrix: \n",
      "                  Predicted: Spam  Predicted: Not Spam\n",
      "Actual: Spam                  143                    9\n",
      "Actual: Not Spam               16                  634\n"
     ]
    }
   ],
   "source": [
    "y_pred_Rf = best_rf_model.predict(X_test_Rf)\n",
    "\n",
    "report_Rf = classification_report(y_test_Rf, y_pred_Rf)\n",
    "\n",
    "print(f\"Classification Report:\\n\", report_Rf)\n",
    "\n",
    "cm = pd.DataFrame(confusion_matrix(y_test, y_pred_Rf), ['Actual: Spam', 'Actual: Not Spam'], ['Predicted: Spam', 'Predicted: Not Spam'])\n",
    "\n",
    "print('________________________________________________________')\n",
    "print('Confusion matrix: ')\n",
    "print(cm)"
   ]
  },
  {
   "cell_type": "code",
   "execution_count": 171,
   "metadata": {},
   "outputs": [
    {
     "name": "stdout",
     "output_type": "stream",
     "text": [
      "Random Forest Accuracy: 96.8828\n"
     ]
    }
   ],
   "source": [
    "acc_rf = round(best_rf_model.score(X_test_Rf, y_test_Rf) * 100, 4)\n",
    "print(f\"Random Forest Accuracy: {acc_rf}\" )"
   ]
  },
  {
   "cell_type": "markdown",
   "metadata": {},
   "source": [
    "## KNN"
   ]
  },
  {
   "cell_type": "code",
   "execution_count": 172,
   "metadata": {},
   "outputs": [],
   "source": [
    "from sklearn.model_selection import GridSearchCV, train_test_split\n",
    "from sklearn.neighbors import KNeighborsClassifier\n",
    "from sklearn.pipeline import Pipeline\n",
    "from sklearn.preprocessing import StandardScaler\n",
    "from sklearn.metrics import accuracy_score\n",
    "import joblib"
   ]
  },
  {
   "cell_type": "code",
   "execution_count": 173,
   "metadata": {},
   "outputs": [],
   "source": [
    "X_T_knn = X_T\n",
    "X_test_knn = X_test\n",
    "y_test_knn = y_test\n",
    "X_train_knn = X_train\n",
    "X_val_knn = X_val\n",
    "y_train_knn = y_train\n",
    "y_val_knn = y_val\n",
    "y_T_knn = y_T"
   ]
  },
  {
   "cell_type": "code",
   "execution_count": 174,
   "metadata": {},
   "outputs": [
    {
     "name": "stdout",
     "output_type": "stream",
     "text": [
      "Fitting 3 folds for each of 30 candidates, totalling 90 fits\n",
      "Best: 0.8833004602235371 using {'metric': 'manhattan', 'n_neighbors': 3, 'weights': 'distance'}\n"
     ]
    },
    {
     "data": {
      "text/plain": [
       "['model_knn.pkl']"
      ]
     },
     "execution_count": 174,
     "metadata": {},
     "output_type": "execute_result"
    }
   ],
   "source": [
    "knn = KNeighborsClassifier()\n",
    "\n",
    "param_grid = {\n",
    "    'n_neighbors': [3, 5, 7, 9, 11],  \n",
    "    'weights': ['uniform', 'distance'],  \n",
    "    'metric': ['euclidean', 'manhattan', 'minkowski']  \n",
    "}\n",
    "\n",
    "grid_search = GridSearchCV(estimator=knn, param_grid=param_grid, cv=3, n_jobs=-1, verbose=2)\n",
    "\n",
    "grid_search.fit(X_train_knn, y_train_knn)\n",
    "\n",
    "print(f\"Best: {grid_search.best_score_} using {grid_search.best_params_}\")\n",
    "\n",
    "best_knn_model = grid_search.best_estimator_\n",
    "\n",
    "joblib.dump(best_knn_model, 'model_knn.pkl')"
   ]
  },
  {
   "cell_type": "code",
   "execution_count": 175,
   "metadata": {},
   "outputs": [
    {
     "name": "stdout",
     "output_type": "stream",
     "text": [
      "Classification Report:\n",
      "               precision    recall  f1-score   support\n",
      "\n",
      "           0       0.61      0.85      0.71       109\n",
      "           1       0.98      0.91      0.94       693\n",
      "\n",
      "    accuracy                           0.91       802\n",
      "   macro avg       0.79      0.88      0.83       802\n",
      "weighted avg       0.93      0.91      0.91       802\n",
      "\n",
      "________________________________________________________\n",
      "Confusion matrix: \n",
      "                  Predicted: Spam  Predicted: Not Spam\n",
      "Actual: Spam                   93                   59\n",
      "Actual: Not Spam               16                  634\n"
     ]
    }
   ],
   "source": [
    "y_pred_knn = best_knn_model.predict(X_test_knn)\n",
    "\n",
    "report_knn = classification_report(y_pred_knn, y_test_knn)\n",
    "\n",
    "print(f\"Classification Report:\\n\", report_knn)\n",
    "\n",
    "cm = pd.DataFrame(confusion_matrix(y_test, y_pred_knn), ['Actual: Spam', 'Actual: Not Spam'], ['Predicted: Spam', 'Predicted: Not Spam'])\n",
    "\n",
    "print('________________________________________________________')\n",
    "print('Confusion matrix: ')\n",
    "print(cm)"
   ]
  },
  {
   "cell_type": "code",
   "execution_count": 176,
   "metadata": {},
   "outputs": [
    {
     "name": "stdout",
     "output_type": "stream",
     "text": [
      "KNN Accuracy: 90.6484\n"
     ]
    }
   ],
   "source": [
    "acc_knn = round(best_knn_model.score(X_test_knn, y_test_knn) * 100, 4)\n",
    "print(f\"KNN Accuracy: {acc_knn}\" )"
   ]
  },
  {
   "cell_type": "markdown",
   "metadata": {},
   "source": [
    "## Logistic regression"
   ]
  },
  {
   "cell_type": "code",
   "execution_count": 177,
   "metadata": {},
   "outputs": [],
   "source": [
    "from sklearn.model_selection import GridSearchCV, train_test_split\n",
    "from sklearn.linear_model import LogisticRegression\n",
    "from sklearn.pipeline import Pipeline\n",
    "from sklearn.preprocessing import StandardScaler\n",
    "from sklearn.metrics import accuracy_score\n",
    "import joblib"
   ]
  },
  {
   "cell_type": "code",
   "execution_count": 178,
   "metadata": {},
   "outputs": [],
   "source": [
    "X_T_lr = X_T\n",
    "X_test_lr = X_test\n",
    "y_test_lr = y_test\n",
    "X_train_lr = X_train\n",
    "X_val_lr = X_val\n",
    "y_train_lr = y_train\n",
    "y_val_lr = y_val\n",
    "y_T_lr = y_T"
   ]
  },
  {
   "cell_type": "code",
   "execution_count": 179,
   "metadata": {},
   "outputs": [
    {
     "name": "stdout",
     "output_type": "stream",
     "text": [
      "Best: 0.9339250493096647 using {'logreg__C': 0.1, 'logreg__penalty': 'l2', 'logreg__solver': 'saga'}\n"
     ]
    },
    {
     "data": {
      "text/plain": [
       "['model_logreg.pkl']"
      ]
     },
     "execution_count": 179,
     "metadata": {},
     "output_type": "execute_result"
    }
   ],
   "source": [
    "logreg = LogisticRegression()\n",
    "\n",
    "pipe = Pipeline([\n",
    "    ('scaler', StandardScaler()), \n",
    "    ('logreg', logreg)\n",
    "])\n",
    "\n",
    "param_grid = {\n",
    "    'logreg__penalty': ['l1', 'l2', 'elasticnet', 'none'],  \n",
    "    'logreg__C': [0.1, 1.0, 10, 100],  \n",
    "    'logreg__solver': ['liblinear', 'saga']  \n",
    "}\n",
    "\n",
    "grid_search = GridSearchCV(estimator=pipe, param_grid=param_grid, cv=3, n_jobs=-1)\n",
    "\n",
    "grid_search.fit(X_train_lr, y_train_lr)\n",
    "\n",
    "print(f\"Best: {grid_search.best_score_} using {grid_search.best_params_}\")\n",
    "\n",
    "best_logreg_model = grid_search.best_estimator_\n",
    "\n",
    "joblib.dump(best_logreg_model, 'model_logreg.pkl')"
   ]
  },
  {
   "cell_type": "code",
   "execution_count": 180,
   "metadata": {},
   "outputs": [
    {
     "name": "stdout",
     "output_type": "stream",
     "text": [
      "Classification Report:\n",
      "               precision    recall  f1-score   support\n",
      "\n",
      "           0       0.81      0.92      0.86       134\n",
      "           1       0.98      0.96      0.97       668\n",
      "\n",
      "    accuracy                           0.95       802\n",
      "   macro avg       0.90      0.94      0.91       802\n",
      "weighted avg       0.95      0.95      0.95       802\n",
      "\n",
      "________________________________________________________\n",
      "Confusion matrix: \n",
      "                  Predicted: Spam  Predicted: Not Spam\n",
      "Actual: Spam                  123                   29\n",
      "Actual: Not Spam               11                  639\n"
     ]
    }
   ],
   "source": [
    "y_pred_lr = best_logreg_model.predict(X_test_lr)\n",
    "\n",
    "report_lr = classification_report(y_pred_lr, y_test_lr)\n",
    "\n",
    "print(f\"Classification Report:\\n\", report_lr)\n",
    "\n",
    "cm = pd.DataFrame(confusion_matrix(y_test, y_pred_lr), ['Actual: Spam', 'Actual: Not Spam'], ['Predicted: Spam', 'Predicted: Not Spam'])\n",
    "\n",
    "print('________________________________________________________')\n",
    "print('Confusion matrix: ')\n",
    "print(cm)"
   ]
  },
  {
   "cell_type": "code",
   "execution_count": 181,
   "metadata": {},
   "outputs": [
    {
     "name": "stdout",
     "output_type": "stream",
     "text": [
      "Logistic Regression Accuracy: 95.0125\n"
     ]
    }
   ],
   "source": [
    "y_pred_lr = best_logreg_model.predict(X_test_lr)\n",
    "acc_lr = round(accuracy_score(y_test_lr, y_pred_lr) * 100, 4)\n",
    "print(f\"Logistic Regression Accuracy: {acc_lr}\")"
   ]
  },
  {
   "cell_type": "markdown",
   "metadata": {},
   "source": [
    "## Decision tree"
   ]
  },
  {
   "cell_type": "code",
   "execution_count": 182,
   "metadata": {},
   "outputs": [
    {
     "name": "stdout",
     "output_type": "stream",
     "text": [
      "Best: 0.915844838921762 using {'min_samples_split': 7, 'min_samples_leaf': 1, 'max_features': 'sqrt', 'max_depth': None}\n",
      "Test Accuracy: 0.9201995012468828\n"
     ]
    },
    {
     "data": {
      "text/plain": [
       "['model_dec_tree.pkl']"
      ]
     },
     "execution_count": 182,
     "metadata": {},
     "output_type": "execute_result"
    }
   ],
   "source": [
    "from sklearn.tree import DecisionTreeClassifier\n",
    "param_dist = {        \n",
    "    'max_features': ['auto', 'sqrt', 'log2'],        \n",
    "    'max_depth': [None, 10, 20, 30, 40, 50],          \n",
    "    'min_samples_split': np.arange(2, 11),            \n",
    "    'min_samples_leaf': np.arange(1, 5)         \n",
    "}\n",
    "\n",
    "decision_tree = DecisionTreeClassifier(random_state = 1)\n",
    "\n",
    "random_search = RandomizedSearchCV(estimator=decision_tree, param_distributions=param_dist, \n",
    "                                   n_iter=100, cv=3, random_state=42)\n",
    "\n",
    "random_search.fit(X_train, y_train)\n",
    "\n",
    "print(f\"Best: {random_search.best_score_} using {random_search.best_params_}\")\n",
    "\n",
    "best_dec_tree_model = random_search.best_estimator_\n",
    "\n",
    "if X_test is not None and y_test is not None:\n",
    "    y_pred_dec_tree = best_dec_tree_model.predict(X_test)\n",
    "    test_accuracy = accuracy_score(y_test, y_pred_dec_tree)\n",
    "    print(f\"Test Accuracy: {test_accuracy}\")\n",
    "\n",
    "joblib.dump(best_dec_tree_model, 'model_dec_tree.pkl')"
   ]
  },
  {
   "cell_type": "code",
   "execution_count": 183,
   "metadata": {},
   "outputs": [
    {
     "name": "stdout",
     "output_type": "stream",
     "text": [
      "Classification Report:\n",
      "               precision    recall  f1-score   support\n",
      "\n",
      "           0       0.78      0.79      0.79       150\n",
      "           1       0.95      0.95      0.95       652\n",
      "\n",
      "    accuracy                           0.92       802\n",
      "   macro avg       0.87      0.87      0.87       802\n",
      "weighted avg       0.92      0.92      0.92       802\n",
      "\n",
      "________________________________________________________\n",
      "Confusion matrix: \n",
      "                  Predicted: Spam  Predicted: Not Spam\n",
      "Actual: Spam                  119                   33\n",
      "Actual: Not Spam               31                  619\n"
     ]
    }
   ],
   "source": [
    "y_pred_dec_tree = best_dec_tree_model.predict(X_test)\n",
    "\n",
    "report_dec_tree = classification_report(y_pred_dec_tree, y_test)\n",
    "\n",
    "print(f\"Classification Report:\\n\", report_dec_tree)\n",
    "\n",
    "cm = pd.DataFrame(confusion_matrix(y_test, y_pred_dec_tree), ['Actual: Spam', 'Actual: Not Spam'], ['Predicted: Spam', 'Predicted: Not Spam'])\n",
    "\n",
    "print('________________________________________________________')\n",
    "print('Confusion matrix: ')\n",
    "print(cm)"
   ]
  },
  {
   "cell_type": "code",
   "execution_count": 184,
   "metadata": {},
   "outputs": [
    {
     "name": "stdout",
     "output_type": "stream",
     "text": [
      "Decision Tree Accuracy: 92.02\n"
     ]
    }
   ],
   "source": [
    "acc_dec_tree = round(accuracy_score(y_test, y_pred_dec_tree) * 100, 4)\n",
    "print(f\"Decision Tree Accuracy: {acc_dec_tree}\")"
   ]
  },
  {
   "cell_type": "markdown",
   "metadata": {},
   "source": [
    "## LGBM"
   ]
  },
  {
   "cell_type": "code",
   "execution_count": 185,
   "metadata": {},
   "outputs": [
    {
     "name": "stdout",
     "output_type": "stream",
     "text": [
      "[LightGBM] [Info] Number of positive: 2467, number of negative: 575\n",
      "[LightGBM] [Info] Auto-choosing col-wise multi-threading, the overhead of testing was 0.020312 seconds.\n",
      "You can set `force_col_wise=true` to remove the overhead.\n",
      "[LightGBM] [Info] Total Bins 191556\n",
      "[LightGBM] [Info] Number of data points in the train set: 3042, number of used features: 753\n",
      "[LightGBM] [Info] [binary:BoostFromScore]: pavg=0.810980 -> initscore=1.456388\n",
      "[LightGBM] [Info] Start training from score 1.456388\n",
      "Test accuracy: 97.5062\n"
     ]
    }
   ],
   "source": [
    "import lightgbm as lgb\n",
    "\n",
    "lgbm = lgb.LGBMClassifier()\n",
    "\n",
    "lgbm.fit(X_train, y_train)\n",
    "accuracy_lgbm = lgbm.score(X_test, y_test)\n",
    "print(f\"Test accuracy: {accuracy_lgbm * 100:.4f}\")"
   ]
  },
  {
   "cell_type": "code",
   "execution_count": 216,
   "metadata": {},
   "outputs": [
    {
     "name": "stdout",
     "output_type": "stream",
     "text": [
      "Classification Report:\n",
      "              precision    recall  f1-score   support\n",
      "\n",
      "           0       0.92      0.95      0.94       152\n",
      "           1       0.99      0.98      0.98       650\n",
      "\n",
      "    accuracy                           0.98       802\n",
      "   macro avg       0.96      0.96      0.96       802\n",
      "weighted avg       0.98      0.98      0.98       802\n",
      "\n",
      "________________________________________________________\n",
      "                  Predicted: Spam  Predicted: Not Spam\n",
      "Actual: Spam                  144                    8\n",
      "Actual: Not Spam               12                  638\n"
     ]
    }
   ],
   "source": [
    "y_pred_lgbm = lgbm.predict(X_test)\n",
    "\n",
    "report = classification_report(y_test, y_pred_lgbm)\n",
    "print(\"Classification Report:\")\n",
    "print(report)\n",
    "\n",
    "print('________________________________________________________')\n",
    "cm = pd.DataFrame(confusion_matrix(y_test, y_pred_lgbm),\n",
    "                  ['Actual: Spam', 'Actual: Not Spam'], ['Predicted: Spam', 'Predicted: Not Spam'])\n",
    "\n",
    "print(cm)"
   ]
  },
  {
   "cell_type": "markdown",
   "metadata": {},
   "source": [
    "## Stacking Ensemble"
   ]
  },
  {
   "cell_type": "code",
   "execution_count": 187,
   "metadata": {},
   "outputs": [],
   "source": [
    "from sklearn.ensemble import GradientBoostingClassifier\n",
    "from sklearn.svm import SVC\n",
    "from sklearn.neural_network import MLPClassifier\n",
    "import xgboost as xgb"
   ]
  },
  {
   "cell_type": "code",
   "execution_count": null,
   "metadata": {},
   "outputs": [],
   "source": [
    "from sklearn.ensemble import StackingClassifier\n",
    "\n",
    "base_models = [\n",
    "    ('logreg', best_logreg_model),\n",
    "    ('knn', best_knn_model),\n",
    "    ('dec_tree', best_dec_tree_model)\n",
    "]\n",
    "stacking_classifier = StackingClassifier(estimators=base_models, \n",
    "                                         final_estimator=GradientBoostingClassifier())\n",
    "\n",
    "stacking_classifier.fit(X_train, y_train)\n",
    "y_pred_stacked = stacking_classifier.predict(X_test)"
   ]
  },
  {
   "cell_type": "code",
   "execution_count": 217,
   "metadata": {},
   "outputs": [
    {
     "name": "stdout",
     "output_type": "stream",
     "text": [
      "Classification Report:\n",
      "              precision    recall  f1-score   support\n",
      "\n",
      "           0       0.88      0.89      0.89       152\n",
      "           1       0.98      0.97      0.97       650\n",
      "\n",
      "    accuracy                           0.96       802\n",
      "   macro avg       0.93      0.93      0.93       802\n",
      "weighted avg       0.96      0.96      0.96       802\n",
      "\n",
      "________________________________________________________\n",
      "                  Predicted: Spam  Predicted: Not Spam\n",
      "Actual: Spam                  136                   16\n",
      "Actual: Not Spam               18                  632\n"
     ]
    }
   ],
   "source": [
    "report = classification_report(y_test, y_pred_stacked)\n",
    "print(\"Classification Report:\")\n",
    "print(report)\n",
    "print('________________________________________________________')\n",
    "cm = pd.DataFrame(confusion_matrix(y_test, y_pred_stacked),\n",
    "                  ['Actual: Spam', 'Actual: Not Spam'], ['Predicted: Spam', 'Predicted: Not Spam'])\n",
    "\n",
    "print(cm)"
   ]
  },
  {
   "cell_type": "markdown",
   "metadata": {},
   "source": [
    "## Voting Classifier"
   ]
  },
  {
   "cell_type": "code",
   "execution_count": 189,
   "metadata": {},
   "outputs": [],
   "source": [
    "from sklearn.ensemble import VotingClassifier\n",
    "def get_voting():\n",
    "    models = list()\n",
    "    models.append(('Decision Tree', best_dec_tree_model))\n",
    "    models.append(('K Nearest Neighbors', best_knn_model))\n",
    "    models.append(('Logistic Regression', best_logreg_model))\n",
    "    \n",
    "    ensemble = VotingClassifier(estimators=models, voting='hard')\n",
    "    return ensemble\n",
    "\n",
    "voting = get_voting()\n",
    "voting.fit(X_train, y_train)\n",
    "y_pred_voting = voting.predict(X_test)"
   ]
  },
  {
   "cell_type": "code",
   "execution_count": 190,
   "metadata": {},
   "outputs": [
    {
     "name": "stdout",
     "output_type": "stream",
     "text": [
      "Classification Report:\n",
      "              precision    recall  f1-score   support\n",
      "\n",
      "           0       0.91      0.80      0.85       152\n",
      "           1       0.96      0.98      0.97       650\n",
      "\n",
      "    accuracy                           0.95       802\n",
      "   macro avg       0.93      0.89      0.91       802\n",
      "weighted avg       0.95      0.95      0.95       802\n",
      "\n",
      "                  Predicted: Spam  Predicted: Not Spam\n",
      "Actual: Spam                  122                   30\n",
      "Actual: Not Spam               12                  638\n"
     ]
    }
   ],
   "source": [
    "report = classification_report(y_test, y_pred_voting)\n",
    "print(\"Classification Report:\")\n",
    "print(report)\n",
    "\n",
    "cm = pd.DataFrame(confusion_matrix(y_test, y_pred_voting),\n",
    "                  ['Actual: Spam', 'Actual: Not Spam'], ['Predicted: Spam', 'Predicted: Not Spam'])\n",
    "\n",
    "print(cm)"
   ]
  },
  {
   "cell_type": "markdown",
   "metadata": {},
   "source": [
    "## Adaboost"
   ]
  },
  {
   "cell_type": "markdown",
   "metadata": {},
   "source": [
    "## Adaboost"
   ]
  },
  {
   "cell_type": "code",
   "execution_count": 204,
   "metadata": {},
   "outputs": [],
   "source": [
    "from sklearn.ensemble import AdaBoostClassifier\n",
    "\n",
    "estimator = DecisionTreeClassifier(max_depth=1)\n",
    "\n",
    "adabussy = AdaBoostClassifier(\n",
    "    estimator= estimator,\n",
    "    n_estimators=500,\n",
    "    random_state=42\n",
    ")\n",
    "\n",
    "adabussy.fit(X_train, y_train)\n",
    "y_pred_ada = adabussy.predict(X_test)"
   ]
  },
  {
   "cell_type": "code",
   "execution_count": 205,
   "metadata": {},
   "outputs": [
    {
     "name": "stdout",
     "output_type": "stream",
     "text": [
      "Classification Report:\n",
      "              precision    recall  f1-score   support\n",
      "\n",
      "           0       0.95      0.91      0.93       152\n",
      "           1       0.98      0.99      0.98       650\n",
      "\n",
      "    accuracy                           0.97       802\n",
      "   macro avg       0.97      0.95      0.96       802\n",
      "weighted avg       0.97      0.97      0.97       802\n",
      "\n",
      "                  Predicted: Spam  Predicted: Not Spam\n",
      "Actual: Spam                  138                   14\n",
      "Actual: Not Spam                7                  643\n"
     ]
    }
   ],
   "source": [
    "report = classification_report(y_test, y_pred_ada)\n",
    "print(\"Classification Report:\")\n",
    "print(report)\n",
    "\n",
    "cm = pd.DataFrame(confusion_matrix(y_test, y_pred_ada),\n",
    "                  ['Actual: Spam', 'Actual: Not Spam'], ['Predicted: Spam', 'Predicted: Not Spam'])\n",
    "\n",
    "print(cm)"
   ]
  },
  {
   "cell_type": "markdown",
   "metadata": {},
   "source": [
    "## Resultats"
   ]
  },
  {
   "cell_type": "code",
   "execution_count": null,
   "metadata": {},
   "outputs": [],
   "source": [
    "classifiers = [best_rf_model, lgbm, best_dec_tree_model, \n",
    "               best_knn_model, best_logreg_model, stacking_classifier, voting, adabussy]\n",
    "\n",
    "stratified_kfold = StratifiedKFold(n_splits=7)\n",
    "\n",
    "cv_results = []\n",
    "cv_results.append(cross_val_score(best_rf_model, X, y = y, scoring = \"accuracy\", cv = stratified_kfold))\n",
    "cv_results.append(cross_val_score(lgbm, X, y = y, scoring = \"accuracy\", cv = stratified_kfold))\n",
    "cv_results.append(cross_val_score(best_dec_tree_model, X, y = y, scoring = \"accuracy\", cv = stratified_kfold))\n",
    "cv_results.append(cross_val_score(best_knn_model, X, y = y, scoring = \"accuracy\", cv = stratified_kfold))\n",
    "cv_results.append(cross_val_score(best_logreg_model, X, y = y, scoring = \"accuracy\", cv = stratified_kfold))\n",
    "cv_results.append(cross_val_score(stacking_classifier, X, y = y, scoring = \"accuracy\", cv = stratified_kfold))\n",
    "cv_results.append(cross_val_score(voting, X, y = y, scoring = \"accuracy\", cv = stratified_kfold))\n",
    "cv_results.append(cross_val_score(adabussy, X, y = y, scoring = \"accuracy\", cv = stratified_kfold))\n",
    "\n",
    "cv_means = []\n",
    "cv_std = []\n",
    "for cv_result in cv_results:\n",
    "    cv_means.append(cv_result.mean())\n",
    "    cv_std.append(cv_result.std())\n",
    "\n",
    "cv_max = np.max(cv_results, axis=1)\n",
    "\n",
    "cv_res = pd.DataFrame({\"CrossValMeans\": cv_means,\n",
    "                       \"CrossValMax\": cv_max,\n",
    "                       \"CrossValErrors\": cv_std, \n",
    "                       \"Algorithm\": ['Random Forest', \n",
    "                                     'Light Gradient Boosting Machine',\n",
    "                                     'Decision Tree',\n",
    "                                     'K Nearest Neighbors',\n",
    "                                     'Logistic Regression',\n",
    "                                     'Stacking Ensemble',\n",
    "                                     'Voting Ensemble',\n",
    "                                     'Adaboost']})"
   ]
  },
  {
   "cell_type": "code",
   "execution_count": 207,
   "metadata": {},
   "outputs": [
    {
     "data": {
      "image/png": "[encoded data removed]",
      "text/plain": [
       "<Figure size 1000x600 with 1 Axes>"
      ]
     },
     "metadata": {},
     "output_type": "display_data"
    }
   ],
   "source": [
    "plt.figure(figsize=(10, 6))\n",
    "sns.boxplot(data=cv_results, orient='h', palette='Spectral', showmeans = True)\n",
    "plt.yticks(range(len(classifiers)), ['Random Forest', \n",
    "                                     'Light Gradient Boosting Machine',\n",
    "                                     'Decision Tree',\n",
    "                                     'K Nearest Neighbors',\n",
    "                                     'Logistic Regression',\n",
    "                                     'Stacking Ensemble',\n",
    "                                     'Voting Ensemble',\n",
    "                                     'Adaboost'], rotation = 20)\n",
    "plt.xlabel(\"Mean Accuracy\")\n",
    "plt.title(\"Algorithms' performance post hyperparam tuning (with Stratified KFold CV)\")\n",
    "plt.legend(handles=[plt.Line2D([], [], color='green', marker='^', markersize=7, linestyle= '-', label='Mean Accuracy')], loc = 'best')\n",
    "\n",
    "\n",
    "plt.show()"
   ]
  },
  {
   "cell_type": "code",
   "execution_count": 209,
   "metadata": {},
   "outputs": [
    {
     "name": "stdout",
     "output_type": "stream",
     "text": [
      "Random Forest mean accuracy: 90.571\n",
      "LGBM mean accuracy: 93.5323\n",
      "Decision Tree mean accuracy: 93.4139\n",
      "KNN mean accuracy: 89.0547\n",
      "Logistic Regression mean accuracy: 93.5323\n",
      "Stacking Ensemble mean accuracy: 94.2194\n",
      "Voting Ensemble mean accuracy: 93.3902\n",
      "Adaboost mean accuracy: 94.48\n"
     ]
    }
   ],
   "source": [
    "classifiers_name = ['Random Forest', 'LGBM', 'Decision Tree', 'KNN', \n",
    "                    'Logistic Regression', 'Stacking Ensemble', 'Voting Ensemble', 'Adaboost']\n",
    "for i in range(len(cv_means)):\n",
    "    print(f\"{classifiers_name[i]} mean accuracy: {round(cv_means[i] * 100, 4)}\")"
   ]
  },
  {
   "cell_type": "markdown",
   "metadata": {},
   "source": [
    "###     =>  Le Winner: Adaboost"
   ]
  },
  {
   "cell_type": "markdown",
   "metadata": {},
   "source": [
    "## Learning Curve"
   ]
  },
  {
   "cell_type": "code",
   "execution_count": 196,
   "metadata": {},
   "outputs": [
    {
     "data": {
      "text/plain": [
       "<module 'matplotlib.pyplot' from 'C:\\\\Users\\\\DELL\\\\AppData\\\\Roaming\\\\Python\\\\Python312\\\\site-packages\\\\matplotlib\\\\pyplot.py'>"
      ]
     },
     "execution_count": 196,
     "metadata": {},
     "output_type": "execute_result"
    },
    {
     "data": {
      "image/png": "[encoded data removed]",
      "text/plain": [
       "<Figure size 640x480 with 1 Axes>"
      ]
     },
     "metadata": {},
     "output_type": "display_data"
    }
   ],
   "source": [
    "kfold = KFold(n_splits = 5)\n",
    "\n",
    "def plot_learning_curve(estimator, title, X, y, ylim=None, cv=None, n_jobs=-1, train_sizes=np.linspace(.1, 1.0, 5)):\n",
    "    plt.figure()\n",
    "    plt.title(title)\n",
    "    if ylim is not None:\n",
    "        plt.ylim(*ylim)\n",
    "    plt.xlabel(\"Training examples\")\n",
    "    plt.ylabel(\"Score\")\n",
    "    train_sizes, train_scores, test_scores = learning_curve(estimator, X, y, \n",
    "                                                            cv=cv,\n",
    "                                                            n_jobs=n_jobs,\n",
    "                                                            train_sizes=train_sizes)\n",
    "    train_scores_mean = np.mean(train_scores, axis=1)\n",
    "    train_scores_std = np.std(train_scores, axis=1)\n",
    "    test_scores_mean = np.mean(test_scores, axis=1)\n",
    "    test_scores_std = np.std(test_scores, axis=1)\n",
    "    plt.grid()\n",
    "\n",
    "    plt.fill_between(train_sizes, train_scores_mean - train_scores_std,\n",
    "                     train_scores_mean + train_scores_std, alpha=0.1,\n",
    "                     color=\"r\")\n",
    "    plt.fill_between(train_sizes, test_scores_mean - test_scores_std,\n",
    "                     test_scores_mean + test_scores_std, alpha=0.1, color=\"g\")\n",
    "    plt.plot(train_sizes, train_scores_mean, '.-', color=\"r\",\n",
    "             label=\"Training score\")\n",
    "    plt.plot(train_sizes, test_scores_mean, '.-', color=\"g\", linestyle = '--',\n",
    "             label=\"Cross-validation score\")\n",
    "    plt.legend(loc=\"best\")\n",
    "    return plt\n",
    "\n",
    "plot_learning_curve(best_rf_model, \"Random Forest Learning Curve\", X, y, cv=kfold)"
   ]
  },
  {
   "cell_type": "code",
   "execution_count": 197,
   "metadata": {},
   "outputs": [
    {
     "data": {
      "text/plain": [
       "<module 'matplotlib.pyplot' from 'C:\\\\Users\\\\DELL\\\\AppData\\\\Roaming\\\\Python\\\\Python312\\\\site-packages\\\\matplotlib\\\\pyplot.py'>"
      ]
     },
     "execution_count": 197,
     "metadata": {},
     "output_type": "execute_result"
    },
    {
     "data": {
      "image/png": "[encoded data removed]",
      "text/plain": [
       "<Figure size 640x480 with 1 Axes>"
      ]
     },
     "metadata": {},
     "output_type": "display_data"
    }
   ],
   "source": [
    "plot_learning_curve(best_dec_tree_model, \"Decision Tree Learning Curve\", X, y, cv=kfold)"
   ]
  },
  {
   "cell_type": "code",
   "execution_count": 198,
   "metadata": {},
   "outputs": [
    {
     "data": {
      "text/plain": [
       "<module 'matplotlib.pyplot' from 'C:\\\\Users\\\\DELL\\\\AppData\\\\Roaming\\\\Python\\\\Python312\\\\site-packages\\\\matplotlib\\\\pyplot.py'>"
      ]
     },
     "execution_count": 198,
     "metadata": {},
     "output_type": "execute_result"
    },
    {
     "data": {
      "image/png": "[encoded data removed]",
      "text/plain": [
       "<Figure size 640x480 with 1 Axes>"
      ]
     },
     "metadata": {},
     "output_type": "display_data"
    }
   ],
   "source": [
    "plot_learning_curve(best_knn_model, \"KNN Learning Curve\", X, y, cv=kfold)"
   ]
  },
  {
   "cell_type": "code",
   "execution_count": 199,
   "metadata": {},
   "outputs": [
    {
     "data": {
      "text/plain": [
       "<module 'matplotlib.pyplot' from 'C:\\\\Users\\\\DELL\\\\AppData\\\\Roaming\\\\Python\\\\Python312\\\\site-packages\\\\matplotlib\\\\pyplot.py'>"
      ]
     },
     "execution_count": 199,
     "metadata": {},
     "output_type": "execute_result"
    },
    {
     "data": {
      "image/png": "[encoded data removed]",
      "text/plain": [
       "<Figure size 640x480 with 1 Axes>"
      ]
     },
     "metadata": {},
     "output_type": "display_data"
    }
   ],
   "source": [
    "plot_learning_curve(best_logreg_model, \"Logistic Regression Learning Curve\", X, y, cv=kfold)"
   ]
  },
  {
   "cell_type": "code",
   "execution_count": 200,
   "metadata": {},
   "outputs": [
    {
     "name": "stdout",
     "output_type": "stream",
     "text": [
      "No Skill: ROC AUC=0.500\n"
     ]
    },
    {
     "data": {
      "image/png": "[encoded data removed]",
      "text/plain": [
       "<Figure size 1200x800 with 1 Axes>"
      ]
     },
     "metadata": {},
     "output_type": "display_data"
    }
   ],
   "source": [
    "from sklearn.metrics import roc_auc_score, roc_curve\n",
    "\n",
    "ns_probs = [0 for _ in range(len(y_test))]\n",
    "ns_auc = roc_auc_score(y_test, ns_probs)\n",
    "print('No Skill: ROC AUC=%.3f' % (ns_auc))\n",
    "ns_fpr, ns_tpr, _ = roc_curve(y_test, ns_probs)\n",
    "\n",
    "y_scores_lr = best_logreg_model.decision_function(X_test)\n",
    "lr_fpr, lr_tpr, thresholds = roc_curve(y_test, y_scores_lr)\n",
    "lr_auc = roc_auc_score(y_test, y_scores_lr)\n",
    "\n",
    "y_scores_knn = best_knn_model.predict_proba(X_test)[:, 1]\n",
    "knn_fpr, knn_tpr, thresholds = roc_curve(y_test, y_scores_knn)\n",
    "knn_auc = roc_auc_score(y_test, y_scores_knn)\n",
    "\n",
    "y_scores_tree = best_dec_tree_model.predict_proba(X_test)[:, 1]\n",
    "tree_fpr, tree_tpr, thresholds = roc_curve(y_test, y_scores_tree)\n",
    "tree_auc = roc_auc_score(y_test, y_scores_tree)\n",
    "\n",
    "# y_scores_rf = best_rf_model.predict_proba(X_test)[:, 1]\n",
    "# rf_fpr, rf_tpr, thresholds = roc_curve(y_test, y_scores_rf)\n",
    "# rf_auc = roc_auc_score(y_test, y_scores_rf)\n",
    "\n",
    "plt.figure(figsize=(12,8))\n",
    "plt.title('ROC curve (base learners only)', fontsize = 16)\n",
    "\n",
    "plt.plot(ns_fpr, ns_tpr, linestyle='--', label='No Skill', color = 'black')\n",
    "plt.plot(lr_fpr, lr_tpr, marker='.', label='Logistic (AUC = {:.2f})'.format(lr_auc*100), color = 'red')\n",
    "plt.plot(knn_fpr, knn_tpr, label='KNN (AUC = {:.2f})'.format(knn_auc*100), color = 'blue', marker = '^')\n",
    "plt.plot(tree_fpr, tree_tpr, label='Decision tree (AUC = {:.2f})'.format(tree_auc*100), color = 'green', marker= '*')\n",
    "# plt.plot(rf_fpr, rf_tpr, label='Random Forest (AUC = {:.2f})'.format(tree_auc*100), color = 'purple', marker= 'o')\n",
    "\n",
    "plt.xlabel('False Positive Rate')\n",
    "plt.ylabel('True Positive Rate')\n",
    "plt.legend()\n",
    "plt.grid()\n",
    "plt.show()"
   ]
  },
  {
   "cell_type": "markdown",
   "metadata": {},
   "source": [
    "## Lazy Classifier - J4F"
   ]
  },
  {
   "cell_type": "code",
   "execution_count": 201,
   "metadata": {},
   "outputs": [],
   "source": [
    "from lazypredict.Supervised import LazyClassifier"
   ]
  },
  {
   "cell_type": "code",
   "execution_count": 202,
   "metadata": {},
   "outputs": [
    {
     "name": "stderr",
     "output_type": "stream",
     "text": [
      "  0%|          | 0/31 [00:00<?, ?it/s]"
     ]
    },
    {
     "name": "stderr",
     "output_type": "stream",
     "text": [
      "  3%|▎         | 1/31 [00:12<06:06, 12.20s/it]"
     ]
    },
    {
     "name": "stdout",
     "output_type": "stream",
     "text": [
      "{'Model': 'AdaBoostClassifier', 'Accuracy': 0.9002493765586035, 'Balanced Accuracy': 0.7948076923076923, 'ROC AUC': 0.7948076923076923, 'F1 Score': 0.89523996660578, 'Time taken': 12.201644897460938}\n"
     ]
    },
    {
     "name": "stderr",
     "output_type": "stream",
     "text": [
      "  6%|▋         | 2/31 [00:59<15:48, 32.72s/it]"
     ]
    },
    {
     "name": "stdout",
     "output_type": "stream",
     "text": [
      "{'Model': 'BaggingClassifier', 'Accuracy': 0.9513715710723192, 'Balanced Accuracy': 0.9397570850202429, 'ROC AUC': 0.9397570850202429, 'F1 Score': 0.9522310491777338, 'Time taken': 47.07347917556763}\n"
     ]
    },
    {
     "name": "stderr",
     "output_type": "stream",
     "text": [
      " 10%|▉         | 3/31 [00:59<08:20, 17.87s/it]"
     ]
    },
    {
     "name": "stdout",
     "output_type": "stream",
     "text": [
      "{'Model': 'BernoulliNB', 'Accuracy': 0.8778054862842892, 'Balanced Accuracy': 0.7381174089068826, 'ROC AUC': 0.7381174089068825, 'F1 Score': 0.8680413285828882, 'Time taken': 0.20013070106506348}\n"
     ]
    },
    {
     "name": "stderr",
     "output_type": "stream",
     "text": [
      " 13%|█▎        | 4/31 [01:29<10:07, 22.49s/it]"
     ]
    },
    {
     "name": "stdout",
     "output_type": "stream",
     "text": [
      "{'Model': 'CalibratedClassifierCV', 'Accuracy': 0.9251870324189526, 'Balanced Accuracy': 0.827834008097166, 'ROC AUC': 0.827834008097166, 'F1 Score': 0.9206359948162159, 'Time taken': 29.558107137680054}\n"
     ]
    },
    {
     "name": "stderr",
     "output_type": "stream",
     "text": [
      " 23%|██▎       | 7/31 [01:35<03:35,  8.98s/it]"
     ]
    },
    {
     "name": "stdout",
     "output_type": "stream",
     "text": [
      "{'Model': 'DecisionTreeClassifier', 'Accuracy': 0.928927680798005, 'Balanced Accuracy': 0.8729858299595141, 'ROC AUC': 0.8729858299595141, 'F1 Score': 0.9280878548407632, 'Time taken': 6.583353042602539}\n",
      "{'Model': 'DummyClassifier', 'Accuracy': 0.8104738154613467, 'Balanced Accuracy': 0.5, 'ROC AUC': 0.5, 'F1 Score': 0.7256308265149798, 'Time taken': 0.11247372627258301}\n"
     ]
    },
    {
     "name": "stderr",
     "output_type": "stream",
     "text": [
      " 26%|██▌       | 8/31 [01:36<02:29,  6.50s/it]"
     ]
    },
    {
     "name": "stdout",
     "output_type": "stream",
     "text": [
      "{'Model': 'ExtraTreeClassifier', 'Accuracy': 0.9376558603491272, 'Balanced Accuracy': 0.8708097165991904, 'ROC AUC': 0.8708097165991904, 'F1 Score': 0.9357427452602172, 'Time taken': 0.18436050415039062}\n"
     ]
    },
    {
     "name": "stderr",
     "output_type": "stream",
     "text": [
      " 35%|███▌      | 11/31 [01:37<00:56,  2.82s/it]"
     ]
    },
    {
     "name": "stdout",
     "output_type": "stream",
     "text": [
      "{'Model': 'ExtraTreesClassifier', 'Accuracy': 0.9538653366583542, 'Balanced Accuracy': 0.9085323886639676, 'ROC AUC': 0.9085323886639677, 'F1 Score': 0.9530632267278455, 'Time taken': 1.5036001205444336}\n",
      "{'Model': 'GaussianNB', 'Accuracy': 0.7144638403990025, 'Balanced Accuracy': 0.7230364372469635, 'ROC AUC': 0.7230364372469635, 'F1 Score': 0.742941171437396, 'Time taken': 0.16823697090148926}\n"
     ]
    },
    {
     "name": "stderr",
     "output_type": "stream",
     "text": [
      " 39%|███▊      | 12/31 [01:37<00:41,  2.20s/it]"
     ]
    },
    {
     "name": "stdout",
     "output_type": "stream",
     "text": [
      "{'Model': 'KNeighborsClassifier', 'Accuracy': 0.844139650872818, 'Balanced Accuracy': 0.5963765182186235, 'ROC AUC': 0.5963765182186235, 'F1 Score': 0.8005469631636771, 'Time taken': 0.24847078323364258}\n"
     ]
    },
    {
     "name": "stderr",
     "output_type": "stream",
     "text": [
      " 42%|████▏     | 13/31 [01:38<00:33,  1.86s/it]"
     ]
    },
    {
     "name": "stdout",
     "output_type": "stream",
     "text": [
      "{'Model': 'LabelPropagation', 'Accuracy': 0.9451371571072319, 'Balanced Accuracy': 0.9611133603238866, 'ROC AUC': 0.9611133603238866, 'F1 Score': 0.9474560184993405, 'Time taken': 0.8871021270751953}\n"
     ]
    },
    {
     "name": "stderr",
     "output_type": "stream",
     "text": [
      " 45%|████▌     | 14/31 [01:40<00:29,  1.75s/it]"
     ]
    },
    {
     "name": "stdout",
     "output_type": "stream",
     "text": [
      "{'Model': 'LabelSpreading', 'Accuracy': 0.9451371571072319, 'Balanced Accuracy': 0.9611133603238866, 'ROC AUC': 0.9611133603238866, 'F1 Score': 0.9474560184993405, 'Time taken': 1.4397168159484863}\n"
     ]
    },
    {
     "name": "stderr",
     "output_type": "stream",
     "text": [
      " 48%|████▊     | 15/31 [01:40<00:23,  1.45s/it]"
     ]
    },
    {
     "name": "stdout",
     "output_type": "stream",
     "text": [
      "{'Model': 'LinearDiscriminantAnalysis', 'Accuracy': 0.9214463840399002, 'Balanced Accuracy': 0.8582894736842105, 'ROC AUC': 0.8582894736842105, 'F1 Score': 0.920301381799054, 'Time taken': 0.6842832565307617}\n"
     ]
    },
    {
     "name": "stderr",
     "output_type": "stream",
     "text": [
      " 55%|█████▍    | 17/31 [01:47<00:28,  2.05s/it]"
     ]
    },
    {
     "name": "stdout",
     "output_type": "stream",
     "text": [
      "{'Model': 'LinearSVC', 'Accuracy': 0.9413965087281796, 'Balanced Accuracy': 0.8882388663967611, 'ROC AUC': 0.888238866396761, 'F1 Score': 0.9403776123299658, 'Time taken': 6.238025665283203}\n",
      "{'Model': 'LogisticRegression', 'Accuracy': 0.9513715710723192, 'Balanced Accuracy': 0.8943927125506073, 'ROC AUC': 0.8943927125506073, 'F1 Score': 0.9499538603036737, 'Time taken': 0.1874244213104248}\n"
     ]
    },
    {
     "name": "stderr",
     "output_type": "stream",
     "text": [
      " 61%|██████▏   | 19/31 [01:47<00:13,  1.09s/it]"
     ]
    },
    {
     "name": "stdout",
     "output_type": "stream",
     "text": [
      "{'Model': 'NearestCentroid', 'Accuracy': 0.9251870324189526, 'Balanced Accuracy': 0.8379149797570851, 'ROC AUC': 0.8379149797570851, 'F1 Score': 0.9216849238853053, 'Time taken': 0.12874245643615723}\n"
     ]
    },
    {
     "name": "stderr",
     "output_type": "stream",
     "text": [
      " 68%|██████▊   | 21/31 [01:48<00:06,  1.51it/s]"
     ]
    },
    {
     "name": "stdout",
     "output_type": "stream",
     "text": [
      "{'Model': 'PassiveAggressiveClassifier', 'Accuracy': 0.9451371571072319, 'Balanced Accuracy': 0.905668016194332, 'ROC AUC': 0.9056680161943319, 'F1 Score': 0.9448555502858397, 'Time taken': 0.30629444122314453}\n",
      "{'Model': 'Perceptron', 'Accuracy': 0.956359102244389, 'Balanced Accuracy': 0.9226720647773279, 'ROC AUC': 0.922672064777328, 'F1 Score': 0.9560778150473328, 'Time taken': 0.19711852073669434}\n"
     ]
    },
    {
     "name": "stderr",
     "output_type": "stream",
     "text": [
      " 71%|███████   | 22/31 [01:48<00:06,  1.43it/s]"
     ]
    },
    {
     "name": "stdout",
     "output_type": "stream",
     "text": [
      "{'Model': 'QuadraticDiscriminantAnalysis', 'Accuracy': 0.9014962593516209, 'Balanced Accuracy': 0.7451720647773279, 'ROC AUC': 0.7451720647773279, 'F1 Score': 0.8880521997903217, 'Time taken': 0.7925734519958496}\n"
     ]
    },
    {
     "name": "stderr",
     "output_type": "stream",
     "text": [
      " 77%|███████▋  | 24/31 [02:01<00:21,  3.09s/it]"
     ]
    },
    {
     "name": "stdout",
     "output_type": "stream",
     "text": [
      "{'Model': 'RandomForestClassifier', 'Accuracy': 0.970074812967581, 'Balanced Accuracy': 0.9538157894736843, 'ROC AUC': 0.9538157894736841, 'F1 Score': 0.9701495528528145, 'Time taken': 12.841294765472412}\n",
      "{'Model': 'RidgeClassifier', 'Accuracy': 0.9226932668329177, 'Balanced Accuracy': 0.8565384615384615, 'ROC AUC': 0.8565384615384616, 'F1 Score': 0.9212390741510784, 'Time taken': 0.19304966926574707}\n"
     ]
    },
    {
     "name": "stderr",
     "output_type": "stream",
     "text": [
      " 81%|████████  | 25/31 [02:02<00:14,  2.35s/it]"
     ]
    },
    {
     "name": "stdout",
     "output_type": "stream",
     "text": [
      "{'Model': 'RidgeClassifierCV', 'Accuracy': 0.9214463840399002, 'Balanced Accuracy': 0.8557692307692308, 'ROC AUC': 0.8557692307692308, 'F1 Score': 0.9200806292933584, 'Time taken': 0.6281514167785645}\n"
     ]
    },
    {
     "name": "stderr",
     "output_type": "stream",
     "text": [
      " 84%|████████▍ | 26/31 [02:03<00:08,  1.77s/it]"
     ]
    },
    {
     "name": "stdout",
     "output_type": "stream",
     "text": [
      "{'Model': 'SGDClassifier', 'Accuracy': 0.9177057356608479, 'Balanced Accuracy': 0.8055769230769231, 'ROC AUC': 0.8055769230769231, 'F1 Score': 0.9114558281595715, 'Time taken': 0.41759777069091797}\n"
     ]
    },
    {
     "name": "stderr",
     "output_type": "stream",
     "text": [
      " 87%|████████▋ | 27/31 [02:05<00:08,  2.10s/it]"
     ]
    },
    {
     "name": "stdout",
     "output_type": "stream",
     "text": [
      "{'Model': 'SVC', 'Accuracy': 0.9501246882793017, 'Balanced Accuracy': 0.8759817813765183, 'ROC AUC': 0.8759817813765182, 'F1 Score': 0.9476199833028901, 'Time taken': 2.8626086711883545}\n"
     ]
    },
    {
     "name": "stderr",
     "output_type": "stream",
     "text": [
      " 97%|█████████▋| 30/31 [02:12<00:02,  2.11s/it]"
     ]
    },
    {
     "name": "stdout",
     "output_type": "stream",
     "text": [
      "{'Model': 'XGBClassifier', 'Accuracy': 0.9750623441396509, 'Balanced Accuracy': 0.959412955465587, 'ROC AUC': 0.959412955465587, 'F1 Score': 0.9750623441396509, 'Time taken': 6.327361822128296}\n",
      "[LightGBM] [Info] Number of positive: 2467, number of negative: 575\n",
      "[LightGBM] [Info] Auto-choosing col-wise multi-threading, the overhead of testing was 0.021321 seconds.\n",
      "You can set `force_col_wise=true` to remove the overhead.\n",
      "[LightGBM] [Info] Total Bins 191556\n",
      "[LightGBM] [Info] Number of data points in the train set: 3042, number of used features: 753\n",
      "[LightGBM] [Info] [binary:BoostFromScore]: pavg=0.810980 -> initscore=1.456388\n",
      "[LightGBM] [Info] Start training from score 1.456388\n"
     ]
    },
    {
     "name": "stderr",
     "output_type": "stream",
     "text": [
      "100%|██████████| 31/31 [02:20<00:00,  4.52s/it]"
     ]
    },
    {
     "name": "stdout",
     "output_type": "stream",
     "text": [
      "{'Model': 'LGBMClassifier', 'Accuracy': 0.9763092269326683, 'Balanced Accuracy': 0.9652226720647773, 'ROC AUC': 0.9652226720647773, 'F1 Score': 0.9763975811603021, 'Time taken': 7.983128070831299}\n"
     ]
    },
    {
     "name": "stderr",
     "output_type": "stream",
     "text": [
      "\n"
     ]
    }
   ],
   "source": [
    "lazy = LazyClassifier(verbose=1, \n",
    "                      ignore_warnings=True,\n",
    "                      custom_metric=None)\n",
    "models = lazy.fit(X_train, X_test, y_train, y_test)"
   ]
  },
  {
   "cell_type": "code",
   "execution_count": 215,
   "metadata": {},
   "outputs": [
    {
     "data": {
      "text/plain": [
       "(                               Accuracy  Balanced Accuracy  ROC AUC  F1 Score  \\\n",
       " Model                                                                           \n",
       " LGBMClassifier                     0.98               0.97     0.97      0.98   \n",
       " LabelPropagation                   0.95               0.96     0.96      0.95   \n",
       " LabelSpreading                     0.95               0.96     0.96      0.95   \n",
       " XGBClassifier                      0.98               0.96     0.96      0.98   \n",
       " RandomForestClassifier             0.97               0.95     0.95      0.97   \n",
       " BaggingClassifier                  0.95               0.94     0.94      0.95   \n",
       " Perceptron                         0.96               0.92     0.92      0.96   \n",
       " ExtraTreesClassifier               0.95               0.91     0.91      0.95   \n",
       " PassiveAggressiveClassifier        0.95               0.91     0.91      0.94   \n",
       " LogisticRegression                 0.95               0.89     0.89      0.95   \n",
       " LinearSVC                          0.94               0.89     0.89      0.94   \n",
       " SVC                                0.95               0.88     0.88      0.95   \n",
       " DecisionTreeClassifier             0.93               0.87     0.87      0.93   \n",
       " ExtraTreeClassifier                0.94               0.87     0.87      0.94   \n",
       " LinearDiscriminantAnalysis         0.92               0.86     0.86      0.92   \n",
       " RidgeClassifier                    0.92               0.86     0.86      0.92   \n",
       " RidgeClassifierCV                  0.92               0.86     0.86      0.92   \n",
       " NearestCentroid                    0.93               0.84     0.84      0.92   \n",
       " CalibratedClassifierCV             0.93               0.83     0.83      0.92   \n",
       " SGDClassifier                      0.92               0.81     0.81      0.91   \n",
       " AdaBoostClassifier                 0.90               0.79     0.79      0.90   \n",
       " QuadraticDiscriminantAnalysis      0.90               0.75     0.75      0.89   \n",
       " BernoulliNB                        0.88               0.74     0.74      0.87   \n",
       " GaussianNB                         0.71               0.72     0.72      0.74   \n",
       " KNeighborsClassifier               0.84               0.60     0.60      0.80   \n",
       " DummyClassifier                    0.81               0.50     0.50      0.73   \n",
       " \n",
       "                                Time Taken  \n",
       " Model                                      \n",
       " LGBMClassifier                       7.98  \n",
       " LabelPropagation                     0.89  \n",
       " LabelSpreading                       1.44  \n",
       " XGBClassifier                        6.33  \n",
       " RandomForestClassifier              12.84  \n",
       " BaggingClassifier                   47.07  \n",
       " Perceptron                           0.20  \n",
       " ExtraTreesClassifier                 1.50  \n",
       " PassiveAggressiveClassifier          0.31  \n",
       " LogisticRegression                   0.19  \n",
       " LinearSVC                            6.24  \n",
       " SVC                                  2.86  \n",
       " DecisionTreeClassifier               6.58  \n",
       " ExtraTreeClassifier                  0.18  \n",
       " LinearDiscriminantAnalysis           0.68  \n",
       " RidgeClassifier                      0.19  \n",
       " RidgeClassifierCV                    0.63  \n",
       " NearestCentroid                      0.13  \n",
       " CalibratedClassifierCV              29.56  \n",
       " SGDClassifier                        0.42  \n",
       " AdaBoostClassifier                  12.20  \n",
       " QuadraticDiscriminantAnalysis        0.79  \n",
       " BernoulliNB                          0.20  \n",
       " GaussianNB                           0.17  \n",
       " KNeighborsClassifier                 0.25  \n",
       " DummyClassifier                      0.11  ,\n",
       "                                Accuracy  Balanced Accuracy  ROC AUC  F1 Score  \\\n",
       " Model                                                                           \n",
       " LGBMClassifier                     0.98               0.97     0.97      0.98   \n",
       " LabelPropagation                   0.95               0.96     0.96      0.95   \n",
       " LabelSpreading                     0.95               0.96     0.96      0.95   \n",
       " XGBClassifier                      0.98               0.96     0.96      0.98   \n",
       " RandomForestClassifier             0.97               0.95     0.95      0.97   \n",
       " BaggingClassifier                  0.95               0.94     0.94      0.95   \n",
       " Perceptron                         0.96               0.92     0.92      0.96   \n",
       " ExtraTreesClassifier               0.95               0.91     0.91      0.95   \n",
       " PassiveAggressiveClassifier        0.95               0.91     0.91      0.94   \n",
       " LogisticRegression                 0.95               0.89     0.89      0.95   \n",
       " LinearSVC                          0.94               0.89     0.89      0.94   \n",
       " SVC                                0.95               0.88     0.88      0.95   \n",
       " DecisionTreeClassifier             0.93               0.87     0.87      0.93   \n",
       " ExtraTreeClassifier                0.94               0.87     0.87      0.94   \n",
       " LinearDiscriminantAnalysis         0.92               0.86     0.86      0.92   \n",
       " RidgeClassifier                    0.92               0.86     0.86      0.92   \n",
       " RidgeClassifierCV                  0.92               0.86     0.86      0.92   \n",
       " NearestCentroid                    0.93               0.84     0.84      0.92   \n",
       " CalibratedClassifierCV             0.93               0.83     0.83      0.92   \n",
       " SGDClassifier                      0.92               0.81     0.81      0.91   \n",
       " AdaBoostClassifier                 0.90               0.79     0.79      0.90   \n",
       " QuadraticDiscriminantAnalysis      0.90               0.75     0.75      0.89   \n",
       " BernoulliNB                        0.88               0.74     0.74      0.87   \n",
       " GaussianNB                         0.71               0.72     0.72      0.74   \n",
       " KNeighborsClassifier               0.84               0.60     0.60      0.80   \n",
       " DummyClassifier                    0.81               0.50     0.50      0.73   \n",
       " \n",
       "                                Time Taken  \n",
       " Model                                      \n",
       " LGBMClassifier                       7.98  \n",
       " LabelPropagation                     0.89  \n",
       " LabelSpreading                       1.44  \n",
       " XGBClassifier                        6.33  \n",
       " RandomForestClassifier              12.84  \n",
       " BaggingClassifier                   47.07  \n",
       " Perceptron                           0.20  \n",
       " ExtraTreesClassifier                 1.50  \n",
       " PassiveAggressiveClassifier          0.31  \n",
       " LogisticRegression                   0.19  \n",
       " LinearSVC                            6.24  \n",
       " SVC                                  2.86  \n",
       " DecisionTreeClassifier               6.58  \n",
       " ExtraTreeClassifier                  0.18  \n",
       " LinearDiscriminantAnalysis           0.68  \n",
       " RidgeClassifier                      0.19  \n",
       " RidgeClassifierCV                    0.63  \n",
       " NearestCentroid                      0.13  \n",
       " CalibratedClassifierCV              29.56  \n",
       " SGDClassifier                        0.42  \n",
       " AdaBoostClassifier                  12.20  \n",
       " QuadraticDiscriminantAnalysis        0.79  \n",
       " BernoulliNB                          0.20  \n",
       " GaussianNB                           0.17  \n",
       " KNeighborsClassifier                 0.25  \n",
       " DummyClassifier                      0.11  )"
      ]
     },
     "execution_count": 215,
     "metadata": {},
     "output_type": "execute_result"
    }
   ],
   "source": [
    "models"
   ]
  }
 ],
 "metadata": {
  "kernelspec": {
   "display_name": "Python 3",
   "language": "python",
   "name": "python3"
  },
  "language_info": {
   "codemirror_mode": {
    "name": "ipython",
    "version": 3
   },
   "file_extension": ".py",
   "mimetype": "text/x-python",
   "name": "python",
   "nbconvert_exporter": "python",
   "pygments_lexer": "ipython3",
   "version": "3.12.4"
  }
 },
 "nbformat": 4,
 "nbformat_minor": 2
}
